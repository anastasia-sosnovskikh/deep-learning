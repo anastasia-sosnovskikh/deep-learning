{
 "cells": [
  {
   "cell_type": "markdown",
   "id": "a9cc6d4e",
   "metadata": {},
   "source": [
    "# PyTorch\n",
    "\n",
    "PyTorch is a deep learning framework developed by Facebook's AI Research Group."
   ]
  },
  {
   "cell_type": "markdown",
   "id": "319072cf",
   "metadata": {},
   "source": [
    "## Tensors\n",
    "A tensor is a generalization of vectors and matrices and is easily understood as a multidimensional array."
   ]
  },
  {
   "cell_type": "code",
   "execution_count": null,
   "id": "66e111c3",
   "metadata": {},
   "outputs": [],
   "source": [
    "import torch"
   ]
  },
  {
   "cell_type": "markdown",
   "id": "c6d50599",
   "metadata": {},
   "source": [
    "### zeros()"
   ]
  },
  {
   "cell_type": "code",
   "execution_count": 11,
   "id": "6f55ce64",
   "metadata": {},
   "outputs": [
    {
     "data": {
      "text/plain": [
       "tensor([[0., 0., 0.],\n",
       "        [0., 0., 0.],\n",
       "        [0., 0., 0.],\n",
       "        [0., 0., 0.]])"
      ]
     },
     "execution_count": 11,
     "metadata": {},
     "output_type": "execute_result"
    }
   ],
   "source": [
    "w = torch.zeros(4,3)\n",
    "w"
   ]
  },
  {
   "cell_type": "code",
   "execution_count": 12,
   "id": "ddc0c230",
   "metadata": {},
   "outputs": [
    {
     "data": {
      "text/plain": [
       "torch.Size([4, 3])"
      ]
     },
     "execution_count": 12,
     "metadata": {},
     "output_type": "execute_result"
    }
   ],
   "source": [
    "w.shape"
   ]
  },
  {
   "cell_type": "markdown",
   "id": "0b653410",
   "metadata": {},
   "source": [
    "### randn() and randn_like()"
   ]
  },
  {
   "cell_type": "code",
   "execution_count": 16,
   "id": "b39f9a79",
   "metadata": {},
   "outputs": [
    {
     "data": {
      "text/plain": [
       "tensor([[-0.1878,  0.6123,  0.5717],\n",
       "        [-1.6159, -0.6082,  0.5684],\n",
       "        [ 1.1030, -0.1915, -0.3217],\n",
       "        [-1.6151,  0.4028,  1.4529]])"
      ]
     },
     "execution_count": 16,
     "metadata": {},
     "output_type": "execute_result"
    }
   ],
   "source": [
    "# create a tensor from a normal distribution (mean=0, std=1)\n",
    "w = torch.randn(4,3) \n",
    "w"
   ]
  },
  {
   "cell_type": "code",
   "execution_count": 17,
   "id": "5ab0dbdd",
   "metadata": {},
   "outputs": [
    {
     "data": {
      "text/plain": [
       "tensor([[-1.8912,  0.8942, -0.5595],\n",
       "        [ 0.6670, -0.2391,  1.1755],\n",
       "        [-0.3609,  0.0833,  1.0462],\n",
       "        [-0.5692,  1.6452,  0.0912]])"
      ]
     },
     "execution_count": 17,
     "metadata": {},
     "output_type": "execute_result"
    }
   ],
   "source": [
    "# create a tensor from a normal distribution with the size of another tensor\n",
    "t = torch.randn_like(w)\n",
    "t"
   ]
  },
  {
   "cell_type": "markdown",
   "id": "8af32fc2",
   "metadata": {},
   "source": [
    "### fill()\n",
    "\n",
    "Functions with `_` at the end are in-place functions. "
   ]
  },
  {
   "cell_type": "code",
   "execution_count": 19,
   "id": "2b8714bf",
   "metadata": {},
   "outputs": [
    {
     "data": {
      "text/plain": [
       "tensor([[1., 1., 1.],\n",
       "        [1., 1., 1.],\n",
       "        [1., 1., 1.],\n",
       "        [1., 1., 1.]])"
      ]
     },
     "execution_count": 19,
     "metadata": {},
     "output_type": "execute_result"
    }
   ],
   "source": [
    "w.fill_(1)"
   ]
  },
  {
   "cell_type": "markdown",
   "id": "68b5eddf",
   "metadata": {},
   "source": [
    "### view()\n",
    "Reshaping a tensor"
   ]
  },
  {
   "cell_type": "code",
   "execution_count": 20,
   "id": "8e783469",
   "metadata": {
    "scrolled": true
   },
   "outputs": [
    {
     "data": {
      "text/plain": [
       "tensor([[1., 1., 1.],\n",
       "        [1., 1., 1.],\n",
       "        [1., 1., 1.],\n",
       "        [1., 1., 1.]])"
      ]
     },
     "execution_count": 20,
     "metadata": {},
     "output_type": "execute_result"
    }
   ],
   "source": [
    "w"
   ]
  },
  {
   "cell_type": "code",
   "execution_count": 22,
   "id": "e3690d90",
   "metadata": {
    "scrolled": false
   },
   "outputs": [
    {
     "data": {
      "text/plain": [
       "tensor([[1., 1., 1., 1.],\n",
       "        [1., 1., 1., 1.],\n",
       "        [1., 1., 1., 1.]])"
      ]
     },
     "execution_count": 22,
     "metadata": {},
     "output_type": "execute_result"
    }
   ],
   "source": [
    "t = w.view(3,4)\n",
    "t"
   ]
  },
  {
   "cell_type": "code",
   "execution_count": 23,
   "id": "02a566ee",
   "metadata": {
    "scrolled": true
   },
   "outputs": [
    {
     "data": {
      "text/plain": [
       "tensor([[1., 1., 1., 1.],\n",
       "        [1., 1., 1., 1.],\n",
       "        [1., 1., 1., 1.]])"
      ]
     },
     "execution_count": 23,
     "metadata": {},
     "output_type": "execute_result"
    }
   ],
   "source": [
    "w.view(3,-1) # the second dimention is left for the function to figure out"
   ]
  },
  {
   "cell_type": "markdown",
   "id": "ae5a0d14",
   "metadata": {},
   "source": [
    "### numpy\n",
    "Convert from tensor to numpy array\n",
    "If torch tensor is on CPU, then they will share the locations which would mean that changing one would change the other"
   ]
  },
  {
   "cell_type": "code",
   "execution_count": 24,
   "id": "c9e0fb99",
   "metadata": {
    "scrolled": true
   },
   "outputs": [
    {
     "data": {
      "text/plain": [
       "array([[1., 1., 1.],\n",
       "       [1., 1., 1.],\n",
       "       [1., 1., 1.],\n",
       "       [1., 1., 1.]], dtype=float32)"
      ]
     },
     "execution_count": 24,
     "metadata": {},
     "output_type": "execute_result"
    }
   ],
   "source": [
    "w.numpy()"
   ]
  },
  {
   "cell_type": "markdown",
   "id": "e16d6c8c",
   "metadata": {},
   "source": [
    "## Loss  (Criterion)\n",
    "Takes in what the model predicts and correct label and computes how far the prediction is.\n",
    "Loss function for problem types:\n",
    "\n",
    "| problem type | last-layer activation | loss function |\n",
    "| :---: | :---: | :---: |\n",
    "| binary classification | sigmoid | binary crossentropy |\n",
    "| multiclass, single label classification | softmax | categorical crossentropy |\n",
    "| multiclass, multilabel classification | sigmoid | binary crossentropy |\n",
    "| regression to arbitrary values | none | MSE |\n",
    "| regression to values between 0 and 1 | sigmoid | MSE or binary crossentropy |\n",
    "\n",
    "Adjusting weights to minimize the loss using Gradient Descent.\n"
   ]
  },
  {
   "cell_type": "markdown",
   "id": "65f47980",
   "metadata": {},
   "source": [
    "## EXAMPLE: Fashion MNIST and NNs\n",
    "\n",
    "* 70000 images (60000 for training and 10000 for testing)\n",
    "* 28 x 28 pixels\n",
    "* 10 categories (levels 0 - 9)"
   ]
  },
  {
   "cell_type": "code",
   "execution_count": 1,
   "id": "b45b4e3e",
   "metadata": {},
   "outputs": [],
   "source": [
    "# Setting seeds ensure we have the same results - this is not guaranteed across PyTorch releases though\n",
    "import torch\n",
    "torch.manual_seed(0)\n",
    "torch.backends.cudnn.deterministic = True\n",
    "torch.backends.cudnn.benchmark = False\n",
    "\n",
    "import numpy as np\n",
    "np.random.seed(0)"
   ]
  },
  {
   "cell_type": "code",
   "execution_count": 2,
   "id": "3c1fc384",
   "metadata": {},
   "outputs": [
    {
     "name": "stdout",
     "output_type": "stream",
     "text": [
      "Downloading http://fashion-mnist.s3-website.eu-central-1.amazonaws.com/train-images-idx3-ubyte.gz\n",
      "Downloading http://fashion-mnist.s3-website.eu-central-1.amazonaws.com/train-images-idx3-ubyte.gz to C:\\Users\\anast/.pytorch/FMNIST/FashionMNIST\\raw\\train-images-idx3-ubyte.gz\n"
     ]
    },
    {
     "data": {
      "application/vnd.jupyter.widget-view+json": {
       "model_id": "996acb4ad98c49589e3f57575a5dbdf3",
       "version_major": 2,
       "version_minor": 0
      },
      "text/plain": [
       "  0%|          | 0/26421880 [00:00<?, ?it/s]"
      ]
     },
     "metadata": {},
     "output_type": "display_data"
    },
    {
     "name": "stdout",
     "output_type": "stream",
     "text": [
      "Extracting C:\\Users\\anast/.pytorch/FMNIST/FashionMNIST\\raw\\train-images-idx3-ubyte.gz to C:\\Users\\anast/.pytorch/FMNIST/FashionMNIST\\raw\n",
      "\n",
      "Downloading http://fashion-mnist.s3-website.eu-central-1.amazonaws.com/train-labels-idx1-ubyte.gz\n",
      "Downloading http://fashion-mnist.s3-website.eu-central-1.amazonaws.com/train-labels-idx1-ubyte.gz to C:\\Users\\anast/.pytorch/FMNIST/FashionMNIST\\raw\\train-labels-idx1-ubyte.gz\n"
     ]
    },
    {
     "data": {
      "application/vnd.jupyter.widget-view+json": {
       "model_id": "0c6faef5d67249bba6caddca30fbb69e",
       "version_major": 2,
       "version_minor": 0
      },
      "text/plain": [
       "  0%|          | 0/29515 [00:00<?, ?it/s]"
      ]
     },
     "metadata": {},
     "output_type": "display_data"
    },
    {
     "name": "stdout",
     "output_type": "stream",
     "text": [
      "Extracting C:\\Users\\anast/.pytorch/FMNIST/FashionMNIST\\raw\\train-labels-idx1-ubyte.gz to C:\\Users\\anast/.pytorch/FMNIST/FashionMNIST\\raw\n",
      "\n",
      "Downloading http://fashion-mnist.s3-website.eu-central-1.amazonaws.com/t10k-images-idx3-ubyte.gz\n",
      "Downloading http://fashion-mnist.s3-website.eu-central-1.amazonaws.com/t10k-images-idx3-ubyte.gz to C:\\Users\\anast/.pytorch/FMNIST/FashionMNIST\\raw\\t10k-images-idx3-ubyte.gz\n"
     ]
    },
    {
     "data": {
      "application/vnd.jupyter.widget-view+json": {
       "model_id": "aa8dd3144b61492a85861ea2b28404b8",
       "version_major": 2,
       "version_minor": 0
      },
      "text/plain": [
       "  0%|          | 0/4422102 [00:00<?, ?it/s]"
      ]
     },
     "metadata": {},
     "output_type": "display_data"
    },
    {
     "name": "stdout",
     "output_type": "stream",
     "text": [
      "Extracting C:\\Users\\anast/.pytorch/FMNIST/FashionMNIST\\raw\\t10k-images-idx3-ubyte.gz to C:\\Users\\anast/.pytorch/FMNIST/FashionMNIST\\raw\n",
      "\n",
      "Downloading http://fashion-mnist.s3-website.eu-central-1.amazonaws.com/t10k-labels-idx1-ubyte.gz\n",
      "Downloading http://fashion-mnist.s3-website.eu-central-1.amazonaws.com/t10k-labels-idx1-ubyte.gz to C:\\Users\\anast/.pytorch/FMNIST/FashionMNIST\\raw\\t10k-labels-idx1-ubyte.gz\n"
     ]
    },
    {
     "data": {
      "application/vnd.jupyter.widget-view+json": {
       "model_id": "b0c2e3b569ee4fdea27615dfaee32411",
       "version_major": 2,
       "version_minor": 0
      },
      "text/plain": [
       "  0%|          | 0/5148 [00:00<?, ?it/s]"
      ]
     },
     "metadata": {},
     "output_type": "display_data"
    },
    {
     "name": "stdout",
     "output_type": "stream",
     "text": [
      "Extracting C:\\Users\\anast/.pytorch/FMNIST/FashionMNIST\\raw\\t10k-labels-idx1-ubyte.gz to C:\\Users\\anast/.pytorch/FMNIST/FashionMNIST\\raw\n",
      "\n",
      "Processing...\n"
     ]
    },
    {
     "name": "stderr",
     "output_type": "stream",
     "text": [
      "C:\\Users\\anast\\anaconda3\\lib\\site-packages\\torchvision\\datasets\\mnist.py:502: UserWarning: The given NumPy array is not writeable, and PyTorch does not support non-writeable tensors. This means you can write to the underlying (supposedly non-writeable) NumPy array using the tensor. You may want to copy the array to protect its data or make it writeable before converting it to a tensor. This type of warning will be suppressed for the rest of this program. (Triggered internally at  ..\\torch\\csrc\\utils\\tensor_numpy.cpp:143.)\n",
      "  return torch.from_numpy(parsed.astype(m[2], copy=False)).view(*s)\n"
     ]
    },
    {
     "name": "stdout",
     "output_type": "stream",
     "text": [
      "Done!\n"
     ]
    }
   ],
   "source": [
    "from torchvision import datasets, transforms\n",
    "import torch.nn.functional as F\n",
    "from torch import nn\n",
    "\n",
    "mean, std = (0.5,), (0.5,)\n",
    "\n",
    "# Create a transform and normalise data\n",
    "transform = transforms.Compose([transforms.ToTensor(),\n",
    "                                transforms.Normalize(mean, std)\n",
    "                              ])\n",
    "\n",
    "# Download FMNIST training dataset and load TRAINING data\n",
    "trainset = datasets.FashionMNIST('~/.pytorch/FMNIST/', download=True, train=True, transform=transform)\n",
    "trainloader = torch.utils.data.DataLoader(trainset, batch_size=64, shuffle=True)\n",
    "\n",
    "# Download FMNIST test dataset and load TEST data\n",
    "testset = datasets.FashionMNIST('~/.pytorch/FMNIST/', download=True, train=False, transform=transform)\n",
    "testloader = torch.utils.data.DataLoader(testset, batch_size=64, shuffle=False)"
   ]
  },
  {
   "cell_type": "code",
   "execution_count": 8,
   "id": "c876299c",
   "metadata": {},
   "outputs": [],
   "source": [
    "# Creating  `FMNIST` class from inhereting attributes and methods from a superclass\n",
    "# `FMNIST` is a derived or a subclass of `nn.Module`\n",
    "class FMNIST(nn.Module):\n",
    "  def __init__(self):\n",
    "    #Inititalize the data with `__init__()` that specifies how to initialize the data  \n",
    "    #Object is passed to the first argument `self`\n",
    "    super().__init__() \n",
    "    self.fc1 = nn.Linear(784, 128) # 784 -> 128\n",
    "    self.fc2 = nn.Linear(128,64) # 128 -> 64\n",
    "    self.fc3 = nn.Linear(64,10) # 64 -> 10\n",
    "\n",
    "\n",
    "#`forward` defines the order of different layers of NN\n",
    "#`F` has the functions implemented\n",
    "  def forward(self, x):\n",
    "    x = x.view(x.shape[0], -1)\n",
    "    #Declare the layers\n",
    "    x = F.relu(self.fc1(x))\n",
    "    x = F.relu(self.fc2(x))\n",
    "    x = self.fc3(x)\n",
    "    x = F.log_softmax(x, dim=1) # loss function\n",
    "    \n",
    "    return x\n",
    "\n",
    "model = FMNIST()"
   ]
  },
  {
   "cell_type": "code",
   "execution_count": 4,
   "id": "5bdaa91c",
   "metadata": {},
   "outputs": [
    {
     "name": "stdout",
     "output_type": "stream",
     "text": [
      "Training loss: 1.0338174501843036\n",
      "Training loss: 0.5608082033360182\n",
      "Training loss: 0.4914347628699437\n"
     ]
    }
   ],
   "source": [
    "# Training the network\n",
    "# Steps:\n",
    "# 1. take a batch of images and targets\n",
    "# 2. forward pass - run them through NN\n",
    "# 3. calculate loss of NN on batch by measuring the mismatch \n",
    "# 4. update the weights of NN\n",
    "\n",
    "from torch import optim\n",
    "\n",
    "criterion = nn.NLLLoss() # defnining loss function \n",
    "optimizer = optim.SGD(model.parameters(), lr=0.01)\n",
    "\n",
    "num_epochs = 3 # can increase it but be aware of overfitting and time requirements\n",
    "\n",
    "for i in range(num_epochs):\n",
    "    cum_loss = 0 # track of loss for each batch\n",
    "\n",
    "    for images, labels in trainloader: # 1. take a batch\n",
    "        optimizer.zero_grad() # zero out gradients\n",
    "        output = model(images) # 2. forward pass\n",
    "        loss = criterion(output, labels) # 3. calculate loss\n",
    "        loss.backward() \n",
    "        optimizer.step() # update the weights\n",
    "        \n",
    "        cum_loss += loss.item()\n",
    "     \n",
    "    print(f\"Training loss: {cum_loss/len(trainloader)}\") # print at the end of each epoch"
   ]
  },
  {
   "cell_type": "code",
   "execution_count": 5,
   "id": "0076c696",
   "metadata": {},
   "outputs": [
    {
     "name": "stderr",
     "output_type": "stream",
     "text": [
      "Matplotlib is building the font cache; this may take a moment.\n"
     ]
    }
   ],
   "source": [
    "%matplotlib inline\n",
    "import matplotlib.pyplot as plt\n",
    "\n",
    "images, labels = next(iter(testloader))\n",
    "\n",
    "test_image_id = 13\n",
    "img = images[test_image_id].view(1, 784) \n",
    "\n",
    "with torch.no_grad():\n",
    "    logps = model(img)"
   ]
  },
  {
   "cell_type": "code",
   "execution_count": 6,
   "id": "fcf3b631",
   "metadata": {},
   "outputs": [
    {
     "data": {
      "text/plain": [
       "<BarContainer object of 10 artists>"
      ]
     },
     "execution_count": 6,
     "metadata": {},
     "output_type": "execute_result"
    },
    {
     "data": {
      "image/png": "[encoded data removed]",
      "text/plain": [
       "<Figure size 432x288 with 1 Axes>"
      ]
     },
     "metadata": {
      "needs_background": "light"
     },
     "output_type": "display_data"
    }
   ],
   "source": [
    "ps = torch.exp(logps)\n",
    "nps = ps.numpy()[0]\n",
    "FMNIST_labels = ['T-shirt/top','Trouser','Pullover','Dress','Coat','Sandal','Shirt','Sport Shoes','Bag','Ankle Boot']\n",
    "plt.xticks(np.arange(10),labels=FMNIST_labels,rotation='vertical')\n",
    "plt.bar(np.arange(10), nps)"
   ]
  },
  {
   "cell_type": "code",
   "execution_count": 67,
   "id": "c39e7bc3",
   "metadata": {},
   "outputs": [
    {
     "ename": "NameError",
     "evalue": "name 'img' is not defined",
     "output_type": "error",
     "traceback": [
      "\u001b[1;31m---------------------------------------------------------------------------\u001b[0m",
      "\u001b[1;31mNameError\u001b[0m                                 Traceback (most recent call last)",
      "\u001b[1;32m<ipython-input-67-ae00458c8f5f>\u001b[0m in \u001b[0;36m<module>\u001b[1;34m\u001b[0m\n\u001b[0;32m      3\u001b[0m   \u001b[1;32mreturn\u001b[0m \u001b[0mtensor\u001b[0m\u001b[1;33m\u001b[0m\u001b[1;33m\u001b[0m\u001b[0m\n\u001b[0;32m      4\u001b[0m \u001b[1;33m\u001b[0m\u001b[0m\n\u001b[1;32m----> 5\u001b[1;33m \u001b[0mimg\u001b[0m \u001b[1;33m=\u001b[0m \u001b[0mimg\u001b[0m\u001b[1;33m.\u001b[0m\u001b[0mview\u001b[0m\u001b[1;33m(\u001b[0m\u001b[1;36m28\u001b[0m\u001b[1;33m,\u001b[0m\u001b[1;33m-\u001b[0m\u001b[1;36m1\u001b[0m\u001b[1;33m)\u001b[0m\u001b[1;33m\u001b[0m\u001b[1;33m\u001b[0m\u001b[0m\n\u001b[0m\u001b[0;32m      6\u001b[0m \u001b[0mimg\u001b[0m \u001b[1;33m=\u001b[0m \u001b[0mdenormalize\u001b[0m\u001b[1;33m(\u001b[0m\u001b[0mimg\u001b[0m\u001b[1;33m)\u001b[0m\u001b[1;33m\u001b[0m\u001b[1;33m\u001b[0m\u001b[0m\n\u001b[0;32m      7\u001b[0m \u001b[0mplt\u001b[0m\u001b[1;33m.\u001b[0m\u001b[0mimshow\u001b[0m\u001b[1;33m(\u001b[0m\u001b[0mimg\u001b[0m\u001b[1;33m,\u001b[0m\u001b[0mcmap\u001b[0m\u001b[1;33m=\u001b[0m\u001b[1;34m'gray'\u001b[0m\u001b[1;33m)\u001b[0m\u001b[1;33m\u001b[0m\u001b[1;33m\u001b[0m\u001b[0m\n",
      "\u001b[1;31mNameError\u001b[0m: name 'img' is not defined"
     ]
    }
   ],
   "source": [
    "def denormalize(tensor):\n",
    "  tensor = tensor*0.5 + 0.5\n",
    "  return tensor\n",
    "  \n",
    "img = img.view(28,-1)\n",
    "img = denormalize(img)\n",
    "plt.imshow(img,cmap='gray')"
   ]
  },
  {
   "cell_type": "markdown",
   "id": "20e1089a",
   "metadata": {},
   "source": [
    "## Autograd\n",
    "Used to automatically calculate the gradients of tensors.\n",
    "Forward pass: calculate the loss\n",
    "Backward pass: calculate the gradient of the loss with respect to each of the weights"
   ]
  },
  {
   "cell_type": "code",
   "execution_count": 1,
   "id": "43e20397",
   "metadata": {},
   "outputs": [],
   "source": [
    "# Setting seeds to try and ensure we have the same results - this is not guaranteed across PyTorch releases.\n",
    "import torch\n",
    "torch.manual_seed(0)\n",
    "torch.backends.cudnn.deterministic = True\n",
    "torch.backends.cudnn.benchmark = False\n",
    "\n",
    "import numpy as np\n",
    "np.random.seed(0)"
   ]
  },
  {
   "cell_type": "code",
   "execution_count": 2,
   "id": "73596717",
   "metadata": {},
   "outputs": [],
   "source": [
    "import torch\n",
    "from torchvision import datasets, transforms\n",
    "import torch.nn.functional as F\n",
    "from torch import nn\n",
    "\n",
    "mean, std = (0.5,), (0.5,)\n",
    "\n",
    "# Create a transform and normalise data\n",
    "transform = transforms.Compose([transforms.ToTensor(),\n",
    "                                transforms.Normalize(mean, std)\n",
    "                              ])\n",
    "\n",
    "# Download FMNIST training dataset and load training data\n",
    "trainset = datasets.FashionMNIST('~/.pytorch/FMNIST/', download=True, train=True, transform=transform)\n",
    "trainloader = torch.utils.data.DataLoader(trainset, batch_size=64, shuffle=True)\n",
    "\n",
    "# Download FMNIST test dataset and load test data\n",
    "testset = datasets.FashionMNIST('~/.pytorch/FMNIST/', download=True, train=False, transform=transform)\n",
    "testloader = torch.utils.data.DataLoader(testset, batch_size=64, shuffle=False)"
   ]
  },
  {
   "cell_type": "code",
   "execution_count": 3,
   "id": "fc62b8ea",
   "metadata": {},
   "outputs": [],
   "source": [
    "class FMNIST(nn.Module):\n",
    "  def __init__(self):\n",
    "    super().__init__()\n",
    "    self.fc1 = nn.Linear(784, 128)\n",
    "    self.fc2 = nn.Linear(128,64)\n",
    "    self.fc3 = nn.Linear(64,10)\n",
    "    \n",
    "  def forward(self, x):\n",
    "    x = x.view(x.shape[0], -1)\n",
    "    \n",
    "    x = F.relu(self.fc1(x))\n",
    "    x = F.relu(self.fc2(x))\n",
    "    x = self.fc3(x)\n",
    "    x = F.log_softmax(x, dim=1)\n",
    "    \n",
    "    return x\n",
    "    \n",
    "#model = FMNIST()   "
   ]
  },
  {
   "cell_type": "code",
   "execution_count": 4,
   "id": "7edd1e92",
   "metadata": {},
   "outputs": [],
   "source": [
    "# another way to define the network to be able to see the weights (class defining method does not support this)\n",
    "model = nn.Sequential(nn.Linear(784, 128),\n",
    "                      nn.ReLU(),\n",
    "                      nn.Linear(128, 64),\n",
    "                      nn.ReLU(),\n",
    "                      nn.Linear(64, 10),\n",
    "                      nn.LogSoftmax(dim=1))"
   ]
  },
  {
   "cell_type": "code",
   "execution_count": 6,
   "id": "2ac1bb32",
   "metadata": {},
   "outputs": [
    {
     "data": {
      "text/plain": [
       "ReLU()"
      ]
     },
     "execution_count": 6,
     "metadata": {},
     "output_type": "execute_result"
    }
   ],
   "source": [
    "model[1]"
   ]
  },
  {
   "cell_type": "code",
   "execution_count": 7,
   "id": "e20eb78c",
   "metadata": {},
   "outputs": [],
   "source": [
    "images, labels = next(iter(trainloader))\n",
    "images = images.view(images.shape[0], -1)"
   ]
  },
  {
   "cell_type": "code",
   "execution_count": 8,
   "id": "7e0a85cf",
   "metadata": {},
   "outputs": [],
   "source": [
    "criterion = nn.NLLLoss()"
   ]
  },
  {
   "cell_type": "code",
   "execution_count": 10,
   "id": "ab857258",
   "metadata": {},
   "outputs": [
    {
     "name": "stdout",
     "output_type": "stream",
     "text": [
      "Initial Weights : Parameter containing:\n",
      "tensor([[-0.0003,  0.0192, -0.0294,  ...,  0.0219,  0.0037,  0.0021],\n",
      "        [-0.0198, -0.0150, -0.0104,  ..., -0.0203, -0.0060, -0.0299],\n",
      "        [-0.0201,  0.0149, -0.0333,  ..., -0.0203,  0.0012,  0.0080],\n",
      "        ...,\n",
      "        [ 0.0018, -0.0295,  0.0085,  ..., -0.0037,  0.0036,  0.0300],\n",
      "        [-0.0233, -0.0220, -0.0064,  ...,  0.0115, -0.0324, -0.0158],\n",
      "        [ 0.0309,  0.0066,  0.0125,  ...,  0.0286,  0.0350, -0.0105]],\n",
      "       requires_grad=True)\n"
     ]
    }
   ],
   "source": [
    "# forward pass is done, weights are calculated\n",
    "print('Initial Weights :', model[0].weight)"
   ]
  },
  {
   "cell_type": "code",
   "execution_count": 12,
   "id": "da64ce09",
   "metadata": {},
   "outputs": [
    {
     "name": "stdout",
     "output_type": "stream",
     "text": [
      "Initial Weights gradients : None\n"
     ]
    }
   ],
   "source": [
    "# have not done the backwards pass yet, so there should be no gradients\n",
    "print('Initial Weights gradients :', model[0].weight.grad)"
   ]
  },
  {
   "cell_type": "code",
   "execution_count": 13,
   "id": "7f49fe35",
   "metadata": {},
   "outputs": [
    {
     "name": "stdout",
     "output_type": "stream",
     "text": [
      "Initial weights :  Parameter containing:\n",
      "tensor([[-0.0003,  0.0192, -0.0294,  ...,  0.0219,  0.0037,  0.0021],\n",
      "        [-0.0198, -0.0150, -0.0104,  ..., -0.0203, -0.0060, -0.0299],\n",
      "        [-0.0201,  0.0149, -0.0333,  ..., -0.0203,  0.0012,  0.0080],\n",
      "        ...,\n",
      "        [ 0.0018, -0.0295,  0.0085,  ..., -0.0037,  0.0036,  0.0300],\n",
      "        [-0.0233, -0.0220, -0.0064,  ...,  0.0115, -0.0324, -0.0158],\n",
      "        [ 0.0309,  0.0066,  0.0125,  ...,  0.0286,  0.0350, -0.0105]],\n",
      "       requires_grad=True)\n",
      "Initial weights gradient :  tensor([[-7.2154e-04, -7.2154e-04, -7.2154e-04,  ..., -7.1856e-04,\n",
      "         -7.2154e-04, -7.2154e-04],\n",
      "        [ 1.5117e-03,  1.5168e-03,  1.5292e-03,  ...,  1.5526e-03,\n",
      "          1.5154e-03,  1.5168e-03],\n",
      "        [-4.5585e-04, -4.5585e-04, -4.5585e-04,  ..., -4.5585e-04,\n",
      "         -4.5585e-04, -4.5585e-04],\n",
      "        ...,\n",
      "        [-9.6583e-05, -9.6583e-05, -9.6583e-05,  ..., -1.5217e-04,\n",
      "         -9.6583e-05, -9.6583e-05],\n",
      "        [-5.6446e-04, -5.6559e-04, -5.5394e-04,  ..., -5.1035e-04,\n",
      "         -5.6446e-04, -5.6559e-04],\n",
      "        [ 3.7556e-03,  3.7518e-03,  3.7486e-03,  ...,  3.7677e-03,\n",
      "          3.7556e-03,  3.7518e-03]])\n"
     ]
    }
   ],
   "source": [
    "# forwads pass, calculate the loss, and then do a backward pass\n",
    "# weights are the same, gradients are calculated by autograd\n",
    "# activation function does not have any weights, it's role is to add non-linearity to NN\n",
    "output = model(images)\n",
    "loss = criterion(output, labels)\n",
    "loss.backward()\n",
    "print('Initial weights : ',model[0].weight)\n",
    "print('Initial weights gradient : ',model[0].weight.grad)\n",
    "    "
   ]
  },
  {
   "cell_type": "code",
   "execution_count": 14,
   "id": "c9e079c4",
   "metadata": {},
   "outputs": [
    {
     "data": {
      "text/plain": [
       "Parameter containing:\n",
       "tensor([[-0.0825, -0.0339,  0.0713,  ..., -0.0854,  0.0097, -0.0645],\n",
       "        [ 0.0488,  0.0832,  0.0728,  ..., -0.0440,  0.0541,  0.0612],\n",
       "        [-0.0055, -0.0093, -0.0157,  ...,  0.0782,  0.0032, -0.0530],\n",
       "        ...,\n",
       "        [ 0.0009,  0.0023, -0.0776,  ...,  0.0575,  0.0759,  0.0016],\n",
       "        [-0.0815, -0.0214, -0.0414,  ...,  0.0702, -0.0252,  0.0703],\n",
       "        [-0.0815,  0.0329, -0.0134,  ...,  0.0773,  0.0774,  0.0468]],\n",
       "       requires_grad=True)"
      ]
     },
     "execution_count": 14,
     "metadata": {},
     "output_type": "execute_result"
    }
   ],
   "source": [
    "model[2].weight"
   ]
  },
  {
   "cell_type": "code",
   "execution_count": 15,
   "id": "5d94f01e",
   "metadata": {},
   "outputs": [
    {
     "data": {
      "text/plain": [
       "tensor([[ 2.9982e-04,  7.5449e-04, -3.4903e-04,  ..., -4.0108e-03,\n",
       "         -4.7830e-04,  1.6829e-03],\n",
       "        [-3.7763e-03, -7.4046e-03, -1.6994e-03,  ...,  4.3599e-03,\n",
       "         -2.2660e-03, -6.2232e-03],\n",
       "        [ 0.0000e+00,  3.7159e-04,  2.0443e-05,  ..., -7.8269e-05,\n",
       "          0.0000e+00, -1.6872e-04],\n",
       "        ...,\n",
       "        [ 1.0783e-04,  5.2203e-03,  1.4267e-03,  ...,  5.2378e-04,\n",
       "         -1.5976e-03, -1.1809e-03],\n",
       "        [ 2.2829e-03,  5.4146e-03,  4.5451e-04,  ..., -1.0207e-02,\n",
       "         -2.3595e-03,  2.7769e-03],\n",
       "        [-3.4852e-03, -5.0445e-03, -1.5482e-03,  ...,  1.0569e-02,\n",
       "          2.0605e-03, -3.6040e-03]])"
      ]
     },
     "execution_count": 15,
     "metadata": {},
     "output_type": "execute_result"
    }
   ],
   "source": [
    "model[2].weight.grad"
   ]
  },
  {
   "cell_type": "markdown",
   "id": "2753f810",
   "metadata": {},
   "source": [
    "## Autograd with Tensors\n",
    "Again, autotograd used for automatically calculating the gradients of tensors.\n",
    "It works by keeping track of operations performed on tensors, and then goes back and calculates gradients on them.\n",
    "You need to set `requires_grad=True`"
   ]
  },
  {
   "cell_type": "code",
   "execution_count": 40,
   "id": "b9e28a50",
   "metadata": {},
   "outputs": [],
   "source": [
    "w = torch.randn(4,3,requires_grad=True)\n",
    "# can also set it after the tensor is created"
   ]
  },
  {
   "cell_type": "code",
   "execution_count": 41,
   "id": "241e0fe6",
   "metadata": {},
   "outputs": [
    {
     "data": {
      "text/plain": [
       "tensor([[0.8374, 4.4017, 0.0434],\n",
       "        [2.6044, 1.4517, 2.3675],\n",
       "        [6.8272, 1.0815, 0.8180],\n",
       "        [0.8387, 0.4668, 0.4391]], grad_fn=<ExpBackward>)"
      ]
     },
     "execution_count": 41,
     "metadata": {},
     "output_type": "execute_result"
    }
   ],
   "source": [
    "y = torch.exp(w)\n",
    "y"
   ]
  },
  {
   "cell_type": "code",
   "execution_count": 42,
   "id": "7081eedb",
   "metadata": {},
   "outputs": [
    {
     "data": {
      "text/plain": [
       "<ExpBackward at 0x21cd9249a30>"
      ]
     },
     "execution_count": 42,
     "metadata": {},
     "output_type": "execute_result"
    }
   ],
   "source": [
    "# autograd module keeps track of the operations\n",
    "y.grad_fn"
   ]
  },
  {
   "cell_type": "code",
   "execution_count": 43,
   "id": "64e3b678",
   "metadata": {},
   "outputs": [
    {
     "data": {
      "text/plain": [
       "tensor(1.8481, grad_fn=<MeanBackward0>)"
      ]
     },
     "execution_count": 43,
     "metadata": {},
     "output_type": "execute_result"
    }
   ],
   "source": [
    "outp = y.mean()\n",
    "outp"
   ]
  },
  {
   "cell_type": "code",
   "execution_count": 44,
   "id": "b1419419",
   "metadata": {},
   "outputs": [
    {
     "name": "stdout",
     "output_type": "stream",
     "text": [
      "None\n"
     ]
    }
   ],
   "source": [
    "# haven't run the backward funciton yet, so gradients are not calculated yet\n",
    "print(w.grad)"
   ]
  },
  {
   "cell_type": "code",
   "execution_count": 45,
   "id": "6c4aac52",
   "metadata": {},
   "outputs": [],
   "source": [
    "# calculates the gradients of `outp` with respect to `w`\n",
    "outp.backward()"
   ]
  },
  {
   "cell_type": "code",
   "execution_count": 46,
   "id": "a5abddee",
   "metadata": {},
   "outputs": [
    {
     "data": {
      "text/plain": [
       "tensor([[0.0698, 0.3668, 0.0036],\n",
       "        [0.2170, 0.1210, 0.1973],\n",
       "        [0.5689, 0.0901, 0.0682],\n",
       "        [0.0699, 0.0389, 0.0366]])"
      ]
     },
     "execution_count": 46,
     "metadata": {},
     "output_type": "execute_result"
    }
   ],
   "source": [
    "w.grad"
   ]
  },
  {
   "cell_type": "code",
   "execution_count": 47,
   "id": "7ed02f5f",
   "metadata": {},
   "outputs": [
    {
     "data": {
      "text/plain": [
       "tensor([[-0.1774,  1.4820, -3.1377],\n",
       "        [ 0.9572,  0.3727,  0.8618],\n",
       "        [ 1.9209,  0.0783, -0.2009],\n",
       "        [-0.1760, -0.7618, -0.8230]])"
      ]
     },
     "execution_count": 47,
     "metadata": {},
     "output_type": "execute_result"
    }
   ],
   "source": [
    "# call the method `detach()` to detach from computation history\n",
    "w.detach()"
   ]
  },
  {
   "cell_type": "code",
   "execution_count": 48,
   "id": "32d9ed74",
   "metadata": {},
   "outputs": [
    {
     "name": "stdout",
     "output_type": "stream",
     "text": [
      "True\n",
      "False\n"
     ]
    }
   ],
   "source": [
    "# if you don't need gradients to be calculated\n",
    "print(outp.requires_grad)\n",
    "\n",
    "with torch.no_grad():\n",
    "    outp = (w+y).mean()\n",
    "    \n",
    "print(outp.requires_grad)"
   ]
  },
  {
   "cell_type": "markdown",
   "id": "c13b1bde",
   "metadata": {},
   "source": [
    "## Optimizers\n",
    "Determine how the network weights will be updated based on the loss function.\n",
    "In other words, optimizer uses loss function to update the weights by implementing a variant of Stochastic Gradient Descent.\n",
    "\n",
    "Training steps:\n",
    "* take a batch of samples and targets\n",
    "* forward pass\n",
    "* calculating loss (the difference between the predicted values and the target)\n",
    "* backward pass (compute the gradient of the loss with regard to the network's parameters)\n",
    "* reduce the loss by taking the step of the optimizer by taking the previous step of the parameter, subtracting the learning rate multiplied by the gradient of loss\n",
    "\n",
    "Important to remember to **zero out the gradients for each epoch** with `optimizer.zero_grad()` because they are relevant for a particular batch of data. "
   ]
  },
  {
   "cell_type": "code",
   "execution_count": 50,
   "id": "7c252948",
   "metadata": {
    "colab": {},
    "colab_type": "code",
    "id": "bCdIqY0tKbvS"
   },
   "outputs": [],
   "source": [
    "# Setting seeds to try and ensure we have the same results - this is not guaranteed across PyTorch releases.\n",
    "import torch\n",
    "torch.manual_seed(0)\n",
    "torch.backends.cudnn.deterministic = True\n",
    "torch.backends.cudnn.benchmark = False\n",
    "\n",
    "import numpy as np\n",
    "np.random.seed(0)"
   ]
  },
  {
   "cell_type": "code",
   "execution_count": 51,
   "id": "58ef8c11",
   "metadata": {
    "colab": {},
    "colab_type": "code",
    "id": "PCJzXv0OK1Bs"
   },
   "outputs": [],
   "source": [
    "from torchvision import datasets, transforms\n",
    "import torch.nn.functional as F\n",
    "from torch import nn\n",
    "\n",
    "mean, std = (0.5,), (0.5,)\n",
    "\n",
    "# Create a transform and normalise data\n",
    "transform = transforms.Compose([transforms.ToTensor(),\n",
    "                                transforms.Normalize(mean, std)\n",
    "                              ])\n",
    "\n",
    "# Download FMNIST training dataset and load training data\n",
    "trainset = datasets.FashionMNIST('~/.pytorch/FMNIST/', download=True, train=True, transform=transform)\n",
    "trainloader = torch.utils.data.DataLoader(trainset, batch_size=64, shuffle=True)\n",
    "\n",
    "# Download FMNIST test dataset and load test data\n",
    "testset = datasets.FashionMNIST('~/.pytorch/FMNIST/', download=True, train=False, transform=transform)\n",
    "testloader = torch.utils.data.DataLoader(testset, batch_size=64, shuffle=False)"
   ]
  },
  {
   "cell_type": "code",
   "execution_count": 52,
   "id": "fb071ddb",
   "metadata": {
    "colab": {},
    "colab_type": "code",
    "id": "rqMqFbIVrbFH"
   },
   "outputs": [],
   "source": [
    "class FMNIST(nn.Module):\n",
    "  def __init__(self):\n",
    "    super().__init__()\n",
    "    self.fc1 = nn.Linear(784, 128)\n",
    "    self.fc2 = nn.Linear(128,64)\n",
    "    self.fc3 = nn.Linear(64,10)\n",
    "    \n",
    "  def forward(self, x):\n",
    "    x = x.view(x.shape[0], -1)\n",
    "    \n",
    "    x = F.relu(self.fc1(x))\n",
    "    x = F.relu(self.fc2(x))\n",
    "    x = self.fc3(x)\n",
    "    x = F.log_softmax(x, dim=1)\n",
    "    \n",
    "    return x\n",
    "    \n",
    "#model = FMNIST()   "
   ]
  },
  {
   "cell_type": "code",
   "execution_count": 53,
   "id": "f6c3b55d",
   "metadata": {
    "colab": {},
    "colab_type": "code",
    "id": "8c0QgxCF3fD-"
   },
   "outputs": [],
   "source": [
    "model = nn.Sequential(nn.Linear(784, 128),\n",
    "                      nn.ReLU(),\n",
    "                      nn.Linear(128, 64),\n",
    "                      nn.ReLU(),\n",
    "                      nn.Linear(64, 10),\n",
    "                      nn.LogSoftmax(dim=1))"
   ]
  },
  {
   "cell_type": "code",
   "execution_count": 54,
   "id": "43aac69b",
   "metadata": {
    "colab": {},
    "colab_type": "code",
    "id": "-iPQek2nz2yu"
   },
   "outputs": [],
   "source": [
    "images, labels = next(iter(trainloader))\n",
    "images = images.view(images.shape[0], -1)"
   ]
  },
  {
   "cell_type": "code",
   "execution_count": 55,
   "id": "b6c76c70",
   "metadata": {
    "colab": {},
    "colab_type": "code",
    "id": "roihp-kN0Jw5"
   },
   "outputs": [],
   "source": [
    "from torch import optim\n",
    "\n",
    "criterion = nn.NLLLoss()\n",
    "optimizer = optim.SGD(model.parameters(), lr=0.01) # lr = learning rate\n"
   ]
  },
  {
   "cell_type": "code",
   "execution_count": 58,
   "id": "5c0e7b97",
   "metadata": {
    "colab": {},
    "colab_type": "code",
    "id": "1Nf2WdmP5Gst"
   },
   "outputs": [
    {
     "name": "stdout",
     "output_type": "stream",
     "text": [
      "Initial weights :  Parameter containing:\n",
      "tensor([[-0.0003,  0.0192, -0.0294,  ...,  0.0219,  0.0037,  0.0021],\n",
      "        [-0.0198, -0.0150, -0.0104,  ..., -0.0203, -0.0060, -0.0299],\n",
      "        [-0.0201,  0.0149, -0.0333,  ..., -0.0203,  0.0012,  0.0080],\n",
      "        ...,\n",
      "        [ 0.0018, -0.0295,  0.0085,  ..., -0.0037,  0.0036,  0.0300],\n",
      "        [-0.0233, -0.0220, -0.0064,  ...,  0.0115, -0.0324, -0.0158],\n",
      "        [ 0.0309,  0.0066,  0.0125,  ...,  0.0286,  0.0350, -0.0105]],\n",
      "       requires_grad=True)\n",
      "Initial weights gradient :  tensor([[-0.0022, -0.0022, -0.0022,  ..., -0.0022, -0.0022, -0.0022],\n",
      "        [ 0.0045,  0.0046,  0.0046,  ...,  0.0047,  0.0045,  0.0046],\n",
      "        [-0.0014, -0.0014, -0.0014,  ..., -0.0014, -0.0014, -0.0014],\n",
      "        ...,\n",
      "        [-0.0003, -0.0003, -0.0003,  ..., -0.0005, -0.0003, -0.0003],\n",
      "        [-0.0017, -0.0017, -0.0017,  ..., -0.0015, -0.0017, -0.0017],\n",
      "        [ 0.0113,  0.0113,  0.0112,  ...,  0.0113,  0.0113,  0.0113]])\n"
     ]
    }
   ],
   "source": [
    "output = model(images) # forward pass\n",
    "loss = criterion(output, labels) # calculate loss\n",
    "loss.backward() # backward pass\n",
    "print('Initial weights : ',model[0].weight)\n",
    "print('Initial weights gradient : ',model[0].weight.grad)"
   ]
  },
  {
   "cell_type": "code",
   "execution_count": 60,
   "id": "ff07cc3c",
   "metadata": {
    "colab": {},
    "colab_type": "code",
    "id": "arwzAK-1EkEH"
   },
   "outputs": [],
   "source": [
    "# update the weights using the step function of the optimizer\n",
    "optimizer.step()"
   ]
  },
  {
   "cell_type": "code",
   "execution_count": 61,
   "id": "df690c22",
   "metadata": {
    "colab": {},
    "colab_type": "code",
    "id": "PuGKi_nq6P0j"
   },
   "outputs": [
    {
     "name": "stdout",
     "output_type": "stream",
     "text": [
      "Initial weights :  Parameter containing:\n",
      "tensor([[-0.0002,  0.0192, -0.0294,  ...,  0.0220,  0.0038,  0.0021],\n",
      "        [-0.0198, -0.0150, -0.0105,  ..., -0.0203, -0.0060, -0.0300],\n",
      "        [-0.0201,  0.0149, -0.0333,  ..., -0.0203,  0.0012,  0.0080],\n",
      "        ...,\n",
      "        [ 0.0018, -0.0295,  0.0085,  ..., -0.0037,  0.0036,  0.0300],\n",
      "        [-0.0232, -0.0220, -0.0064,  ...,  0.0115, -0.0323, -0.0158],\n",
      "        [ 0.0308,  0.0065,  0.0124,  ...,  0.0284,  0.0349, -0.0106]],\n",
      "       requires_grad=True)\n",
      "Initial weights gradient :  tensor([[-0.0022, -0.0022, -0.0022,  ..., -0.0022, -0.0022, -0.0022],\n",
      "        [ 0.0045,  0.0046,  0.0046,  ...,  0.0047,  0.0045,  0.0046],\n",
      "        [-0.0014, -0.0014, -0.0014,  ..., -0.0014, -0.0014, -0.0014],\n",
      "        ...,\n",
      "        [-0.0003, -0.0003, -0.0003,  ..., -0.0005, -0.0003, -0.0003],\n",
      "        [-0.0017, -0.0017, -0.0017,  ..., -0.0015, -0.0017, -0.0017],\n",
      "        [ 0.0113,  0.0113,  0.0112,  ...,  0.0113,  0.0113,  0.0113]])\n"
     ]
    }
   ],
   "source": [
    "print('Initial weights : ',model[0].weight)\n",
    "print('Initial weights gradient : ',model[0].weight.grad)"
   ]
  },
  {
   "cell_type": "code",
   "execution_count": 62,
   "id": "8aa0bf0d",
   "metadata": {
    "colab": {},
    "colab_type": "code",
    "id": "FnfpzGigEpAr"
   },
   "outputs": [],
   "source": [
    "# do not want to accumulate the gradients - MUST zero them out\n",
    "optimizer.zero_grad()"
   ]
  },
  {
   "cell_type": "code",
   "execution_count": 64,
   "id": "f580e286",
   "metadata": {
    "colab": {},
    "colab_type": "code",
    "id": "EniqxHDwDa8d"
   },
   "outputs": [
    {
     "name": "stdout",
     "output_type": "stream",
     "text": [
      "Initial weights :  Parameter containing:\n",
      "tensor([[-0.0002,  0.0192, -0.0294,  ...,  0.0220,  0.0038,  0.0021],\n",
      "        [-0.0198, -0.0150, -0.0105,  ..., -0.0203, -0.0060, -0.0300],\n",
      "        [-0.0201,  0.0149, -0.0333,  ..., -0.0203,  0.0012,  0.0080],\n",
      "        ...,\n",
      "        [ 0.0018, -0.0295,  0.0085,  ..., -0.0037,  0.0036,  0.0300],\n",
      "        [-0.0232, -0.0220, -0.0064,  ...,  0.0115, -0.0323, -0.0158],\n",
      "        [ 0.0308,  0.0065,  0.0124,  ...,  0.0284,  0.0349, -0.0106]],\n",
      "       requires_grad=True)\n",
      "Initial weights gradient :  tensor([[0., 0., 0.,  ..., 0., 0., 0.],\n",
      "        [0., 0., 0.,  ..., 0., 0., 0.],\n",
      "        [0., 0., 0.,  ..., 0., 0., 0.],\n",
      "        ...,\n",
      "        [0., 0., 0.,  ..., 0., 0., 0.],\n",
      "        [0., 0., 0.,  ..., 0., 0., 0.],\n",
      "        [0., 0., 0.,  ..., 0., 0., 0.]])\n"
     ]
    }
   ],
   "source": [
    "print('Initial weights : ',model[0].weight) \n",
    "print('Initial weights gradient : ',model[0].weight.grad) # zeroed out"
   ]
  },
  {
   "cell_type": "code",
   "execution_count": 66,
   "id": "95fad540",
   "metadata": {
    "colab": {},
    "colab_type": "code",
    "id": "mGZhQE3tDcqb"
   },
   "outputs": [
    {
     "name": "stdout",
     "output_type": "stream",
     "text": [
      "Batch : 1, Loss: 2.288628578186035\n",
      "Batch : 2, Loss: 2.3080620765686035\n",
      "Batch : 3, Loss: 2.3098013401031494\n",
      "Batch : 4, Loss: 2.284043312072754\n",
      "Batch : 5, Loss: 2.291738986968994\n",
      "Batch : 6, Loss: 2.3061680793762207\n",
      "Batch : 7, Loss: 2.2870423793792725\n",
      "Batch : 8, Loss: 2.276984453201294\n",
      "Batch : 9, Loss: 2.2776780128479004\n",
      "Batch : 10, Loss: 2.3024075031280518\n",
      "Batch : 11, Loss: 2.270155906677246\n",
      "Batch : 12, Loss: 2.288559913635254\n",
      "Batch : 13, Loss: 2.2820968627929688\n",
      "Batch : 14, Loss: 2.2649171352386475\n",
      "Batch : 15, Loss: 2.274873971939087\n",
      "Batch : 16, Loss: 2.2665631771087646\n",
      "Batch : 17, Loss: 2.2486894130706787\n",
      "Batch : 18, Loss: 2.25093150138855\n",
      "Batch : 19, Loss: 2.2826104164123535\n",
      "Batch : 20, Loss: 2.2532405853271484\n",
      "Batch : 21, Loss: 2.234309434890747\n",
      "Batch : 22, Loss: 2.259300470352173\n",
      "Batch : 23, Loss: 2.248821496963501\n",
      "Batch : 24, Loss: 2.2512760162353516\n",
      "Batch : 25, Loss: 2.2572567462921143\n",
      "Batch : 26, Loss: 2.2401793003082275\n",
      "Batch : 27, Loss: 2.214656352996826\n",
      "Batch : 28, Loss: 2.226203441619873\n",
      "Batch : 29, Loss: 2.2151873111724854\n",
      "Batch : 30, Loss: 2.2176032066345215\n",
      "Batch : 31, Loss: 2.23728084564209\n",
      "Batch : 32, Loss: 2.2319469451904297\n",
      "Batch : 33, Loss: 2.2288169860839844\n",
      "Batch : 34, Loss: 2.2359673976898193\n",
      "Batch : 35, Loss: 2.2106552124023438\n",
      "Batch : 36, Loss: 2.2009663581848145\n",
      "Batch : 37, Loss: 2.228806495666504\n",
      "Batch : 38, Loss: 2.214583396911621\n",
      "Batch : 39, Loss: 2.2042295932769775\n",
      "Batch : 40, Loss: 2.1886141300201416\n",
      "Batch : 41, Loss: 2.20263409614563\n",
      "Batch : 42, Loss: 2.199158191680908\n",
      "Batch : 43, Loss: 2.169827938079834\n",
      "Batch : 44, Loss: 2.14996075630188\n",
      "Batch : 45, Loss: 2.1614444255828857\n",
      "Batch : 46, Loss: 2.1536142826080322\n",
      "Batch : 47, Loss: 2.1791305541992188\n",
      "Batch : 48, Loss: 2.174588441848755\n",
      "Batch : 49, Loss: 2.1909241676330566\n",
      "Batch : 50, Loss: 2.167595624923706\n",
      "Batch : 51, Loss: 2.170773506164551\n",
      "Batch : 52, Loss: 2.176833391189575\n",
      "Batch : 53, Loss: 2.1565167903900146\n",
      "Batch : 54, Loss: 2.119532823562622\n",
      "Batch : 55, Loss: 2.1230432987213135\n",
      "Batch : 56, Loss: 2.1416871547698975\n",
      "Batch : 57, Loss: 2.100715398788452\n",
      "Batch : 58, Loss: 2.1146628856658936\n",
      "Batch : 59, Loss: 2.1192877292633057\n",
      "Batch : 60, Loss: 2.143620729446411\n",
      "Batch : 61, Loss: 2.120922327041626\n",
      "Batch : 62, Loss: 2.0875020027160645\n",
      "Batch : 63, Loss: 2.087580442428589\n",
      "Batch : 64, Loss: 2.104800224304199\n",
      "Batch : 65, Loss: 2.1346569061279297\n",
      "Batch : 66, Loss: 2.105095624923706\n",
      "Batch : 67, Loss: 2.0743091106414795\n",
      "Batch : 68, Loss: 2.1175568103790283\n",
      "Batch : 69, Loss: 2.0749971866607666\n",
      "Batch : 70, Loss: 2.0403952598571777\n",
      "Batch : 71, Loss: 2.0589354038238525\n",
      "Batch : 72, Loss: 2.0627200603485107\n",
      "Batch : 73, Loss: 2.062371015548706\n",
      "Batch : 74, Loss: 2.0711536407470703\n",
      "Batch : 75, Loss: 2.0451242923736572\n",
      "Batch : 76, Loss: 1.9929347038269043\n",
      "Batch : 77, Loss: 2.093439817428589\n",
      "Batch : 78, Loss: 2.0415005683898926\n",
      "Batch : 79, Loss: 1.9999783039093018\n",
      "Batch : 80, Loss: 2.0731618404388428\n",
      "Batch : 81, Loss: 2.0099408626556396\n",
      "Batch : 82, Loss: 1.966227650642395\n",
      "Batch : 83, Loss: 1.9963743686676025\n",
      "Batch : 84, Loss: 1.9500380754470825\n",
      "Batch : 85, Loss: 2.032473564147949\n",
      "Batch : 86, Loss: 2.0362255573272705\n",
      "Batch : 87, Loss: 1.9684059619903564\n",
      "Batch : 88, Loss: 1.947343111038208\n",
      "Batch : 89, Loss: 2.020293951034546\n",
      "Batch : 90, Loss: 1.9370741844177246\n",
      "Batch : 91, Loss: 2.0110340118408203\n",
      "Batch : 92, Loss: 1.9739344120025635\n",
      "Batch : 93, Loss: 1.9326590299606323\n",
      "Batch : 94, Loss: 1.9520376920700073\n",
      "Batch : 95, Loss: 1.9489662647247314\n",
      "Batch : 96, Loss: 1.9084887504577637\n",
      "Batch : 97, Loss: 1.970387578010559\n",
      "Batch : 98, Loss: 1.9823907613754272\n",
      "Batch : 99, Loss: 1.9808343648910522\n",
      "Batch : 100, Loss: 2.0078608989715576\n",
      "Batch : 101, Loss: 1.9658935070037842\n",
      "Batch : 102, Loss: 1.9703658819198608\n",
      "Batch : 103, Loss: 1.9045119285583496\n",
      "Batch : 104, Loss: 1.9508436918258667\n",
      "Batch : 105, Loss: 1.9133564233779907\n",
      "Batch : 106, Loss: 1.8932511806488037\n",
      "Batch : 107, Loss: 1.8733527660369873\n",
      "Batch : 108, Loss: 1.8558356761932373\n",
      "Batch : 109, Loss: 1.8342623710632324\n",
      "Batch : 110, Loss: 1.8201653957366943\n",
      "Batch : 111, Loss: 1.8833751678466797\n",
      "Batch : 112, Loss: 1.8173471689224243\n",
      "Batch : 113, Loss: 1.8530887365341187\n",
      "Batch : 114, Loss: 1.765743374824524\n",
      "Batch : 115, Loss: 1.8477495908737183\n",
      "Batch : 116, Loss: 1.7109159231185913\n",
      "Batch : 117, Loss: 1.9003019332885742\n",
      "Batch : 118, Loss: 1.7871605157852173\n",
      "Batch : 119, Loss: 1.8380064964294434\n",
      "Batch : 120, Loss: 1.7534178495407104\n",
      "Batch : 121, Loss: 1.920150637626648\n",
      "Batch : 122, Loss: 1.8263047933578491\n",
      "Batch : 123, Loss: 1.7914687395095825\n",
      "Batch : 124, Loss: 1.78448486328125\n",
      "Batch : 125, Loss: 1.811231017112732\n",
      "Batch : 126, Loss: 1.7456862926483154\n",
      "Batch : 127, Loss: 1.7881054878234863\n",
      "Batch : 128, Loss: 1.7524638175964355\n",
      "Batch : 129, Loss: 1.827263355255127\n",
      "Batch : 130, Loss: 1.7048755884170532\n",
      "Batch : 131, Loss: 1.6778533458709717\n",
      "Batch : 132, Loss: 1.7147760391235352\n",
      "Batch : 133, Loss: 1.7225536108016968\n",
      "Batch : 134, Loss: 1.6499106884002686\n",
      "Batch : 135, Loss: 1.6625670194625854\n",
      "Batch : 136, Loss: 1.768476128578186\n",
      "Batch : 137, Loss: 1.7792234420776367\n",
      "Batch : 138, Loss: 1.6747989654541016\n",
      "Batch : 139, Loss: 1.6496049165725708\n",
      "Batch : 140, Loss: 1.6461516618728638\n",
      "Batch : 141, Loss: 1.7905761003494263\n",
      "Batch : 142, Loss: 1.6515014171600342\n",
      "Batch : 143, Loss: 1.6357389688491821\n",
      "Batch : 144, Loss: 1.6526902914047241\n",
      "Batch : 145, Loss: 1.6028414964675903\n",
      "Batch : 146, Loss: 1.5982884168624878\n",
      "Batch : 147, Loss: 1.661482810974121\n",
      "Batch : 148, Loss: 1.6338558197021484\n",
      "Batch : 149, Loss: 1.650547742843628\n",
      "Batch : 150, Loss: 1.6519229412078857\n",
      "Batch : 151, Loss: 1.5536859035491943\n",
      "Batch : 152, Loss: 1.6730996370315552\n",
      "Batch : 153, Loss: 1.589125156402588\n",
      "Batch : 154, Loss: 1.6246918439865112\n",
      "Batch : 155, Loss: 1.6287909746170044\n",
      "Batch : 156, Loss: 1.5493741035461426\n",
      "Batch : 157, Loss: 1.6292805671691895\n",
      "Batch : 158, Loss: 1.6461304426193237\n",
      "Batch : 159, Loss: 1.7075464725494385\n",
      "Batch : 160, Loss: 1.5601609945297241\n",
      "Batch : 161, Loss: 1.6359126567840576\n",
      "Batch : 162, Loss: 1.6543128490447998\n",
      "Batch : 163, Loss: 1.5897878408432007\n",
      "Batch : 164, Loss: 1.537859559059143\n",
      "Batch : 165, Loss: 1.5736342668533325\n",
      "Batch : 166, Loss: 1.5079853534698486\n",
      "Batch : 167, Loss: 1.4420347213745117\n",
      "Batch : 168, Loss: 1.5722801685333252\n",
      "Batch : 169, Loss: 1.603189468383789\n",
      "Batch : 170, Loss: 1.514262080192566\n",
      "Batch : 171, Loss: 1.5211890935897827\n",
      "Batch : 172, Loss: 1.453373908996582\n",
      "Batch : 173, Loss: 1.6026358604431152\n",
      "Batch : 174, Loss: 1.440950632095337\n",
      "Batch : 175, Loss: 1.4144083261489868\n",
      "Batch : 176, Loss: 1.481160044670105\n",
      "Batch : 177, Loss: 1.5983346700668335\n",
      "Batch : 178, Loss: 1.3538738489151\n",
      "Batch : 179, Loss: 1.471993088722229\n",
      "Batch : 180, Loss: 1.3759490251541138\n",
      "Batch : 181, Loss: 1.586784839630127\n",
      "Batch : 182, Loss: 1.5142019987106323\n",
      "Batch : 183, Loss: 1.4200574159622192\n",
      "Batch : 184, Loss: 1.3368011713027954\n",
      "Batch : 185, Loss: 1.4060505628585815\n",
      "Batch : 186, Loss: 1.348827600479126\n",
      "Batch : 187, Loss: 1.3889178037643433\n",
      "Batch : 188, Loss: 1.4449409246444702\n",
      "Batch : 189, Loss: 1.4007185697555542\n",
      "Batch : 190, Loss: 1.3079633712768555\n",
      "Batch : 191, Loss: 1.4353827238082886\n",
      "Batch : 192, Loss: 1.4128139019012451\n",
      "Batch : 193, Loss: 1.4986470937728882\n",
      "Batch : 194, Loss: 1.4947435855865479\n",
      "Batch : 195, Loss: 1.3934251070022583\n",
      "Batch : 196, Loss: 1.3159420490264893\n",
      "Batch : 197, Loss: 1.2503217458724976\n",
      "Batch : 198, Loss: 1.4704385995864868\n",
      "Batch : 199, Loss: 1.3396390676498413\n",
      "Batch : 200, Loss: 1.3669430017471313\n",
      "Batch : 201, Loss: 1.4082595109939575\n",
      "Batch : 202, Loss: 1.376648187637329\n",
      "Batch : 203, Loss: 1.35844087600708\n",
      "Batch : 204, Loss: 1.408490538597107\n",
      "Batch : 205, Loss: 1.359188199043274\n",
      "Batch : 206, Loss: 1.307331919670105\n",
      "Batch : 207, Loss: 1.3820321559906006\n",
      "Batch : 208, Loss: 1.3443961143493652\n",
      "Batch : 209, Loss: 1.2357741594314575\n",
      "Batch : 210, Loss: 1.3160125017166138\n",
      "Batch : 211, Loss: 1.2497817277908325\n",
      "Batch : 212, Loss: 1.4003335237503052\n",
      "Batch : 213, Loss: 1.2762998342514038\n",
      "Batch : 214, Loss: 1.3032715320587158\n",
      "Batch : 215, Loss: 1.1196099519729614\n",
      "Batch : 216, Loss: 1.3420666456222534\n",
      "Batch : 217, Loss: 1.3200669288635254\n",
      "Batch : 218, Loss: 1.4521552324295044\n",
      "Batch : 219, Loss: 1.3720651865005493\n",
      "Batch : 220, Loss: 1.2343848943710327\n",
      "Batch : 221, Loss: 1.309891939163208\n",
      "Batch : 222, Loss: 1.2885615825653076\n",
      "Batch : 223, Loss: 1.2678289413452148\n",
      "Batch : 224, Loss: 1.2900700569152832\n"
     ]
    },
    {
     "name": "stdout",
     "output_type": "stream",
     "text": [
      "Batch : 225, Loss: 1.212249994277954\n",
      "Batch : 226, Loss: 1.293318748474121\n",
      "Batch : 227, Loss: 1.2226338386535645\n",
      "Batch : 228, Loss: 1.2812552452087402\n",
      "Batch : 229, Loss: 1.3463066816329956\n",
      "Batch : 230, Loss: 1.2443631887435913\n",
      "Batch : 231, Loss: 1.2140558958053589\n",
      "Batch : 232, Loss: 1.3428449630737305\n",
      "Batch : 233, Loss: 1.1158798933029175\n",
      "Batch : 234, Loss: 1.20414137840271\n",
      "Batch : 235, Loss: 1.4018633365631104\n",
      "Batch : 236, Loss: 1.3054850101470947\n",
      "Batch : 237, Loss: 1.185773491859436\n",
      "Batch : 238, Loss: 1.2555246353149414\n",
      "Batch : 239, Loss: 1.1556949615478516\n",
      "Batch : 240, Loss: 1.1540135145187378\n",
      "Batch : 241, Loss: 1.1964271068572998\n",
      "Batch : 242, Loss: 1.16628098487854\n",
      "Batch : 243, Loss: 1.338180422782898\n",
      "Batch : 244, Loss: 1.0964947938919067\n",
      "Batch : 245, Loss: 1.1737427711486816\n",
      "Batch : 246, Loss: 1.282967209815979\n",
      "Batch : 247, Loss: 1.1115268468856812\n",
      "Batch : 248, Loss: 1.2255126237869263\n",
      "Batch : 249, Loss: 1.185935139656067\n",
      "Batch : 250, Loss: 1.101222038269043\n",
      "Batch : 251, Loss: 1.2300894260406494\n",
      "Batch : 252, Loss: 1.1436280012130737\n",
      "Batch : 253, Loss: 1.065886378288269\n",
      "Batch : 254, Loss: 1.0187910795211792\n",
      "Batch : 255, Loss: 1.2080402374267578\n",
      "Batch : 256, Loss: 1.1579275131225586\n",
      "Batch : 257, Loss: 1.2267752885818481\n",
      "Batch : 258, Loss: 1.1265374422073364\n",
      "Batch : 259, Loss: 1.0939688682556152\n",
      "Batch : 260, Loss: 1.1959489583969116\n",
      "Batch : 261, Loss: 1.2548528909683228\n",
      "Batch : 262, Loss: 1.1431081295013428\n",
      "Batch : 263, Loss: 1.0960959196090698\n",
      "Batch : 264, Loss: 1.0614997148513794\n",
      "Batch : 265, Loss: 1.1455721855163574\n",
      "Batch : 266, Loss: 1.1084216833114624\n",
      "Batch : 267, Loss: 1.147133708000183\n",
      "Batch : 268, Loss: 1.0699152946472168\n",
      "Batch : 269, Loss: 1.1547939777374268\n",
      "Batch : 270, Loss: 1.1119059324264526\n",
      "Batch : 271, Loss: 1.1070891618728638\n",
      "Batch : 272, Loss: 1.027382731437683\n",
      "Batch : 273, Loss: 1.0518651008605957\n",
      "Batch : 274, Loss: 1.1069862842559814\n",
      "Batch : 275, Loss: 0.9520145058631897\n",
      "Batch : 276, Loss: 1.0975385904312134\n",
      "Batch : 277, Loss: 1.0851521492004395\n",
      "Batch : 278, Loss: 1.054248571395874\n",
      "Batch : 279, Loss: 1.0505740642547607\n",
      "Batch : 280, Loss: 1.222033977508545\n",
      "Batch : 281, Loss: 1.0501341819763184\n",
      "Batch : 282, Loss: 1.1541465520858765\n",
      "Batch : 283, Loss: 1.0036944150924683\n",
      "Batch : 284, Loss: 1.0413174629211426\n",
      "Batch : 285, Loss: 1.056823968887329\n",
      "Batch : 286, Loss: 1.1081955432891846\n",
      "Batch : 287, Loss: 0.9145088195800781\n",
      "Batch : 288, Loss: 1.1203029155731201\n",
      "Batch : 289, Loss: 1.1103918552398682\n",
      "Batch : 290, Loss: 1.120837688446045\n",
      "Batch : 291, Loss: 1.0900177955627441\n",
      "Batch : 292, Loss: 0.9630254507064819\n",
      "Batch : 293, Loss: 1.0491408109664917\n",
      "Batch : 294, Loss: 1.0795146226882935\n",
      "Batch : 295, Loss: 1.0308870077133179\n",
      "Batch : 296, Loss: 1.016690969467163\n",
      "Batch : 297, Loss: 1.0249649286270142\n",
      "Batch : 298, Loss: 1.0618194341659546\n",
      "Batch : 299, Loss: 0.9712750315666199\n",
      "Batch : 300, Loss: 1.1576679944992065\n",
      "Batch : 301, Loss: 0.9829971790313721\n",
      "Batch : 302, Loss: 0.9850505590438843\n",
      "Batch : 303, Loss: 0.9846041798591614\n",
      "Batch : 304, Loss: 0.8743593692779541\n",
      "Batch : 305, Loss: 0.962864100933075\n",
      "Batch : 306, Loss: 1.010254144668579\n",
      "Batch : 307, Loss: 1.0945557355880737\n",
      "Batch : 308, Loss: 0.9639612436294556\n",
      "Batch : 309, Loss: 0.9142683148384094\n",
      "Batch : 310, Loss: 1.028632402420044\n",
      "Batch : 311, Loss: 1.163886547088623\n",
      "Batch : 312, Loss: 0.8537325263023376\n",
      "Batch : 313, Loss: 0.9889673590660095\n",
      "Batch : 314, Loss: 1.0357553958892822\n",
      "Batch : 315, Loss: 0.9373365044593811\n",
      "Batch : 316, Loss: 0.949389636516571\n",
      "Batch : 317, Loss: 1.0458372831344604\n",
      "Batch : 318, Loss: 0.8594439029693604\n",
      "Batch : 319, Loss: 1.0614075660705566\n",
      "Batch : 320, Loss: 1.019641399383545\n",
      "Batch : 321, Loss: 0.8771907091140747\n",
      "Batch : 322, Loss: 0.9593406915664673\n",
      "Batch : 323, Loss: 0.9212976694107056\n",
      "Batch : 324, Loss: 0.8434723615646362\n",
      "Batch : 325, Loss: 0.8968423008918762\n",
      "Batch : 326, Loss: 0.9514906406402588\n",
      "Batch : 327, Loss: 1.0096849203109741\n",
      "Batch : 328, Loss: 0.955115020275116\n",
      "Batch : 329, Loss: 0.8126899003982544\n",
      "Batch : 330, Loss: 0.927213191986084\n",
      "Batch : 331, Loss: 1.0267572402954102\n",
      "Batch : 332, Loss: 1.0237979888916016\n",
      "Batch : 333, Loss: 0.9231650829315186\n",
      "Batch : 334, Loss: 1.0199034214019775\n",
      "Batch : 335, Loss: 0.9712200164794922\n",
      "Batch : 336, Loss: 0.8677980899810791\n",
      "Batch : 337, Loss: 0.8132036924362183\n",
      "Batch : 338, Loss: 0.9959396123886108\n",
      "Batch : 339, Loss: 0.8140525221824646\n",
      "Batch : 340, Loss: 0.9478808045387268\n",
      "Batch : 341, Loss: 0.9909131526947021\n",
      "Batch : 342, Loss: 0.9696119427680969\n",
      "Batch : 343, Loss: 0.8024156093597412\n",
      "Batch : 344, Loss: 0.8099087476730347\n",
      "Batch : 345, Loss: 0.8380036354064941\n",
      "Batch : 346, Loss: 0.8745460510253906\n",
      "Batch : 347, Loss: 0.972987711429596\n",
      "Batch : 348, Loss: 1.0200058221817017\n",
      "Batch : 349, Loss: 0.974635899066925\n",
      "Batch : 350, Loss: 0.8554897904396057\n",
      "Batch : 351, Loss: 0.9206744432449341\n",
      "Batch : 352, Loss: 0.8898870944976807\n",
      "Batch : 353, Loss: 0.8898094892501831\n",
      "Batch : 354, Loss: 0.8383221626281738\n",
      "Batch : 355, Loss: 0.9569494724273682\n",
      "Batch : 356, Loss: 0.9764468669891357\n",
      "Batch : 357, Loss: 0.8095207214355469\n",
      "Batch : 358, Loss: 0.8845278024673462\n",
      "Batch : 359, Loss: 0.976321280002594\n",
      "Batch : 360, Loss: 0.8531783819198608\n",
      "Batch : 361, Loss: 0.9209612607955933\n",
      "Batch : 362, Loss: 0.9221140146255493\n",
      "Batch : 363, Loss: 0.8862188458442688\n",
      "Batch : 364, Loss: 0.8837239742279053\n",
      "Batch : 365, Loss: 0.9070107340812683\n",
      "Batch : 366, Loss: 1.0583338737487793\n",
      "Batch : 367, Loss: 0.8037051558494568\n",
      "Batch : 368, Loss: 0.8907573819160461\n",
      "Batch : 369, Loss: 0.8890904188156128\n",
      "Batch : 370, Loss: 0.8850364685058594\n",
      "Batch : 371, Loss: 0.9492731094360352\n",
      "Batch : 372, Loss: 0.831713080406189\n",
      "Batch : 373, Loss: 0.814044177532196\n",
      "Batch : 374, Loss: 0.8138951659202576\n",
      "Batch : 375, Loss: 0.76637864112854\n",
      "Batch : 376, Loss: 0.8652927279472351\n",
      "Batch : 377, Loss: 0.9430568218231201\n",
      "Batch : 378, Loss: 0.8855245113372803\n",
      "Batch : 379, Loss: 0.7675840854644775\n",
      "Batch : 380, Loss: 0.813883900642395\n",
      "Batch : 381, Loss: 0.9329831600189209\n",
      "Batch : 382, Loss: 0.8648528456687927\n",
      "Batch : 383, Loss: 0.9245061874389648\n",
      "Batch : 384, Loss: 0.7726048231124878\n",
      "Batch : 385, Loss: 0.8979705572128296\n",
      "Batch : 386, Loss: 0.8881397843360901\n",
      "Batch : 387, Loss: 0.5930456519126892\n",
      "Batch : 388, Loss: 0.8916354775428772\n",
      "Batch : 389, Loss: 0.8953877091407776\n",
      "Batch : 390, Loss: 0.9833217859268188\n",
      "Batch : 391, Loss: 0.8635151982307434\n",
      "Batch : 392, Loss: 0.8726015090942383\n",
      "Batch : 393, Loss: 0.9265116453170776\n",
      "Batch : 394, Loss: 0.9165986180305481\n",
      "Batch : 395, Loss: 0.9602241516113281\n",
      "Batch : 396, Loss: 0.7581108212471008\n",
      "Batch : 397, Loss: 0.8307162523269653\n",
      "Batch : 398, Loss: 0.7295326590538025\n",
      "Batch : 399, Loss: 0.9735192060470581\n",
      "Batch : 400, Loss: 0.9311831593513489\n",
      "Batch : 401, Loss: 0.7892268300056458\n",
      "Batch : 402, Loss: 0.8174136281013489\n",
      "Batch : 403, Loss: 0.8859277367591858\n",
      "Batch : 404, Loss: 0.7848237156867981\n",
      "Batch : 405, Loss: 0.7618469595909119\n",
      "Batch : 406, Loss: 0.9261286854743958\n",
      "Batch : 407, Loss: 0.8848837018013\n",
      "Batch : 408, Loss: 0.8116838335990906\n",
      "Batch : 409, Loss: 0.9706552028656006\n",
      "Batch : 410, Loss: 0.7818617224693298\n",
      "Batch : 411, Loss: 0.7935642004013062\n",
      "Batch : 412, Loss: 0.8096001744270325\n",
      "Batch : 413, Loss: 0.9496797919273376\n",
      "Batch : 414, Loss: 0.9742069244384766\n",
      "Batch : 415, Loss: 0.9207967519760132\n",
      "Batch : 416, Loss: 0.8661067485809326\n",
      "Batch : 417, Loss: 0.9042625427246094\n",
      "Batch : 418, Loss: 0.7973629832267761\n",
      "Batch : 419, Loss: 0.8236547112464905\n",
      "Batch : 420, Loss: 0.9066341519355774\n",
      "Batch : 421, Loss: 0.7529654502868652\n",
      "Batch : 422, Loss: 1.050246000289917\n",
      "Batch : 423, Loss: 0.7594790458679199\n",
      "Batch : 424, Loss: 0.6818046569824219\n",
      "Batch : 425, Loss: 0.9556789398193359\n",
      "Batch : 426, Loss: 0.7378793358802795\n",
      "Batch : 427, Loss: 0.8432635068893433\n",
      "Batch : 428, Loss: 0.8815158605575562\n",
      "Batch : 429, Loss: 0.8360068798065186\n",
      "Batch : 430, Loss: 0.810179591178894\n",
      "Batch : 431, Loss: 0.7583208084106445\n",
      "Batch : 432, Loss: 0.67996746301651\n",
      "Batch : 433, Loss: 0.8866943120956421\n",
      "Batch : 434, Loss: 0.710419237613678\n",
      "Batch : 435, Loss: 0.8478832244873047\n",
      "Batch : 436, Loss: 0.8804984092712402\n",
      "Batch : 437, Loss: 0.9713487029075623\n",
      "Batch : 438, Loss: 0.8540480732917786\n",
      "Batch : 439, Loss: 0.8773731589317322\n",
      "Batch : 440, Loss: 0.8507721424102783\n",
      "Batch : 441, Loss: 0.8653823733329773\n",
      "Batch : 442, Loss: 0.7158947587013245\n",
      "Batch : 443, Loss: 0.859886109828949\n"
     ]
    },
    {
     "name": "stdout",
     "output_type": "stream",
     "text": [
      "Batch : 444, Loss: 0.7245967388153076\n",
      "Batch : 445, Loss: 0.8864848613739014\n",
      "Batch : 446, Loss: 0.718429684638977\n",
      "Batch : 447, Loss: 0.8926407694816589\n",
      "Batch : 448, Loss: 0.8970000147819519\n",
      "Batch : 449, Loss: 0.8987643718719482\n",
      "Batch : 450, Loss: 0.8502406477928162\n",
      "Batch : 451, Loss: 0.9641009569168091\n",
      "Batch : 452, Loss: 1.0616514682769775\n",
      "Batch : 453, Loss: 0.778825581073761\n",
      "Batch : 454, Loss: 0.8337017893791199\n",
      "Batch : 455, Loss: 0.9947903156280518\n",
      "Batch : 456, Loss: 0.720909595489502\n",
      "Batch : 457, Loss: 0.7365311980247498\n",
      "Batch : 458, Loss: 0.7314582467079163\n",
      "Batch : 459, Loss: 0.7165642380714417\n",
      "Batch : 460, Loss: 0.6830765604972839\n",
      "Batch : 461, Loss: 0.7995732426643372\n",
      "Batch : 462, Loss: 0.8471102118492126\n",
      "Batch : 463, Loss: 1.0199472904205322\n",
      "Batch : 464, Loss: 0.8130252361297607\n",
      "Batch : 465, Loss: 0.8570309281349182\n",
      "Batch : 466, Loss: 0.7960633039474487\n",
      "Batch : 467, Loss: 0.8797236680984497\n",
      "Batch : 468, Loss: 0.8675035238265991\n",
      "Batch : 469, Loss: 0.8153274059295654\n",
      "Batch : 470, Loss: 0.772689938545227\n",
      "Batch : 471, Loss: 0.7840290069580078\n",
      "Batch : 472, Loss: 0.7477915287017822\n",
      "Batch : 473, Loss: 0.8931936025619507\n",
      "Batch : 474, Loss: 0.782498300075531\n",
      "Batch : 475, Loss: 0.7840028405189514\n",
      "Batch : 476, Loss: 0.7334317564964294\n",
      "Batch : 477, Loss: 0.7418493628501892\n",
      "Batch : 478, Loss: 0.7301085591316223\n",
      "Batch : 479, Loss: 0.8649996519088745\n",
      "Batch : 480, Loss: 0.7663862109184265\n",
      "Batch : 481, Loss: 0.6765788793563843\n",
      "Batch : 482, Loss: 0.826831042766571\n",
      "Batch : 483, Loss: 0.8151810765266418\n",
      "Batch : 484, Loss: 0.8254557251930237\n",
      "Batch : 485, Loss: 0.6248900294303894\n",
      "Batch : 486, Loss: 0.744583010673523\n",
      "Batch : 487, Loss: 0.7726086378097534\n",
      "Batch : 488, Loss: 0.6416921615600586\n",
      "Batch : 489, Loss: 0.8319398760795593\n",
      "Batch : 490, Loss: 0.7449011206626892\n",
      "Batch : 491, Loss: 0.5867342352867126\n",
      "Batch : 492, Loss: 0.6816710233688354\n",
      "Batch : 493, Loss: 0.7500202059745789\n",
      "Batch : 494, Loss: 0.6333205699920654\n",
      "Batch : 495, Loss: 0.9037579894065857\n",
      "Batch : 496, Loss: 0.9408153891563416\n",
      "Batch : 497, Loss: 0.7833501696586609\n",
      "Batch : 498, Loss: 0.770412266254425\n",
      "Batch : 499, Loss: 0.795487105846405\n",
      "Batch : 500, Loss: 0.8290451765060425\n",
      "Batch : 501, Loss: 0.687729001045227\n",
      "Batch : 502, Loss: 0.6725992560386658\n",
      "Batch : 503, Loss: 0.7377816438674927\n",
      "Batch : 504, Loss: 0.7884173393249512\n",
      "Batch : 505, Loss: 0.8771483302116394\n",
      "Batch : 506, Loss: 0.7340989112854004\n",
      "Batch : 507, Loss: 0.674940824508667\n",
      "Batch : 508, Loss: 0.9705939888954163\n",
      "Batch : 509, Loss: 0.7335062623023987\n",
      "Batch : 510, Loss: 0.8186115622520447\n",
      "Batch : 511, Loss: 0.8453865647315979\n",
      "Batch : 512, Loss: 0.7328284382820129\n",
      "Batch : 513, Loss: 0.915651798248291\n",
      "Batch : 514, Loss: 0.7034273743629456\n",
      "Batch : 515, Loss: 0.9119855165481567\n",
      "Batch : 516, Loss: 0.8239476084709167\n",
      "Batch : 517, Loss: 0.8063986301422119\n",
      "Batch : 518, Loss: 0.7937206029891968\n",
      "Batch : 519, Loss: 0.6414893269538879\n",
      "Batch : 520, Loss: 0.7318383455276489\n",
      "Batch : 521, Loss: 0.5817010402679443\n",
      "Batch : 522, Loss: 0.7684504985809326\n",
      "Batch : 523, Loss: 0.8620225787162781\n",
      "Batch : 524, Loss: 0.8953003883361816\n",
      "Batch : 525, Loss: 0.8035270571708679\n",
      "Batch : 526, Loss: 0.6607702374458313\n",
      "Batch : 527, Loss: 0.7895902991294861\n",
      "Batch : 528, Loss: 0.5994604825973511\n",
      "Batch : 529, Loss: 0.7110291719436646\n",
      "Batch : 530, Loss: 0.812314510345459\n",
      "Batch : 531, Loss: 0.812604546546936\n",
      "Batch : 532, Loss: 0.6989706754684448\n",
      "Batch : 533, Loss: 0.6484799981117249\n",
      "Batch : 534, Loss: 0.6982521414756775\n",
      "Batch : 535, Loss: 0.6976444721221924\n",
      "Batch : 536, Loss: 0.6069861650466919\n",
      "Batch : 537, Loss: 0.7699623703956604\n",
      "Batch : 538, Loss: 0.7679441571235657\n",
      "Batch : 539, Loss: 0.571792483329773\n",
      "Batch : 540, Loss: 0.6567666530609131\n",
      "Batch : 541, Loss: 0.6277428865432739\n",
      "Batch : 542, Loss: 0.6774905920028687\n",
      "Batch : 543, Loss: 0.792579710483551\n",
      "Batch : 544, Loss: 0.7022404074668884\n",
      "Batch : 545, Loss: 0.8555465936660767\n",
      "Batch : 546, Loss: 0.8046762347221375\n",
      "Batch : 547, Loss: 0.8353305459022522\n",
      "Batch : 548, Loss: 0.7809866666793823\n",
      "Batch : 549, Loss: 0.7164933085441589\n",
      "Batch : 550, Loss: 0.6068886518478394\n",
      "Batch : 551, Loss: 0.8147357106208801\n",
      "Batch : 552, Loss: 0.6828210353851318\n",
      "Batch : 553, Loss: 0.6909176111221313\n",
      "Batch : 554, Loss: 0.6246188879013062\n",
      "Batch : 555, Loss: 0.6802390813827515\n",
      "Batch : 556, Loss: 0.5987704396247864\n",
      "Batch : 557, Loss: 0.6238289475440979\n",
      "Batch : 558, Loss: 0.8076397776603699\n",
      "Batch : 559, Loss: 0.7598494291305542\n",
      "Batch : 560, Loss: 0.731079638004303\n",
      "Batch : 561, Loss: 0.6258247494697571\n",
      "Batch : 562, Loss: 0.565999448299408\n",
      "Batch : 563, Loss: 0.8234044909477234\n",
      "Batch : 564, Loss: 0.7149004340171814\n",
      "Batch : 565, Loss: 0.7078766822814941\n",
      "Batch : 566, Loss: 0.7060557007789612\n",
      "Batch : 567, Loss: 0.7098417282104492\n",
      "Batch : 568, Loss: 0.6774249076843262\n",
      "Batch : 569, Loss: 0.767624020576477\n",
      "Batch : 570, Loss: 0.6199659705162048\n",
      "Batch : 571, Loss: 0.7859252095222473\n",
      "Batch : 572, Loss: 0.6211647391319275\n",
      "Batch : 573, Loss: 0.7782103419303894\n",
      "Batch : 574, Loss: 0.6761878728866577\n",
      "Batch : 575, Loss: 0.7680578231811523\n",
      "Batch : 576, Loss: 0.728506326675415\n",
      "Batch : 577, Loss: 0.6804848909378052\n",
      "Batch : 578, Loss: 0.743339478969574\n",
      "Batch : 579, Loss: 0.7413204908370972\n",
      "Batch : 580, Loss: 0.6562045216560364\n",
      "Batch : 581, Loss: 0.8699349164962769\n",
      "Batch : 582, Loss: 0.5908172130584717\n",
      "Batch : 583, Loss: 0.6817599534988403\n",
      "Batch : 584, Loss: 0.7462961077690125\n",
      "Batch : 585, Loss: 0.6454450488090515\n",
      "Batch : 586, Loss: 0.6230085492134094\n",
      "Batch : 587, Loss: 0.616416335105896\n",
      "Batch : 588, Loss: 0.8518407940864563\n",
      "Batch : 589, Loss: 0.7411338686943054\n",
      "Batch : 590, Loss: 0.6432503461837769\n",
      "Batch : 591, Loss: 0.8336545825004578\n",
      "Batch : 592, Loss: 0.6789819598197937\n",
      "Batch : 593, Loss: 0.7134862542152405\n",
      "Batch : 594, Loss: 0.7939903736114502\n",
      "Batch : 595, Loss: 1.0824227333068848\n",
      "Batch : 596, Loss: 0.8264767527580261\n",
      "Batch : 597, Loss: 0.6745511889457703\n",
      "Batch : 598, Loss: 0.7995464205741882\n",
      "Batch : 599, Loss: 0.7544606328010559\n",
      "Batch : 600, Loss: 0.6810399889945984\n",
      "Batch : 601, Loss: 0.5973367691040039\n",
      "Batch : 602, Loss: 0.6499874591827393\n",
      "Batch : 603, Loss: 0.8526818156242371\n",
      "Batch : 604, Loss: 0.737087607383728\n",
      "Batch : 605, Loss: 0.7197889685630798\n",
      "Batch : 606, Loss: 0.9105743169784546\n",
      "Batch : 607, Loss: 0.5814118981361389\n",
      "Batch : 608, Loss: 0.7270674109458923\n",
      "Batch : 609, Loss: 0.9150997996330261\n",
      "Batch : 610, Loss: 0.7488572597503662\n",
      "Batch : 611, Loss: 0.6062048673629761\n",
      "Batch : 612, Loss: 0.6291254758834839\n",
      "Batch : 613, Loss: 0.5829024314880371\n",
      "Batch : 614, Loss: 0.9954738020896912\n",
      "Batch : 615, Loss: 0.7367667555809021\n",
      "Batch : 616, Loss: 0.6384955644607544\n",
      "Batch : 617, Loss: 0.7152849435806274\n",
      "Batch : 618, Loss: 0.6518800854682922\n",
      "Batch : 619, Loss: 0.6057723760604858\n",
      "Batch : 620, Loss: 0.8240856528282166\n",
      "Batch : 621, Loss: 0.7041902542114258\n",
      "Batch : 622, Loss: 0.7517197132110596\n",
      "Batch : 623, Loss: 0.7833099961280823\n",
      "Batch : 624, Loss: 0.6563698649406433\n",
      "Batch : 625, Loss: 0.8303229212760925\n",
      "Batch : 626, Loss: 0.595137357711792\n",
      "Batch : 627, Loss: 0.7508023977279663\n",
      "Batch : 628, Loss: 0.7592976093292236\n",
      "Batch : 629, Loss: 0.8066631555557251\n",
      "Batch : 630, Loss: 0.7289208769798279\n",
      "Batch : 631, Loss: 0.702649712562561\n",
      "Batch : 632, Loss: 0.5818814039230347\n",
      "Batch : 633, Loss: 0.7140017151832581\n",
      "Batch : 634, Loss: 0.6643520593643188\n",
      "Batch : 635, Loss: 0.6606740355491638\n",
      "Batch : 636, Loss: 0.6655247211456299\n",
      "Batch : 637, Loss: 0.7239311337471008\n",
      "Batch : 638, Loss: 0.7418044209480286\n",
      "Batch : 639, Loss: 0.8062152862548828\n",
      "Batch : 640, Loss: 0.7050405144691467\n",
      "Batch : 641, Loss: 0.5876792669296265\n",
      "Batch : 642, Loss: 0.5976606011390686\n",
      "Batch : 643, Loss: 0.7713596224784851\n",
      "Batch : 644, Loss: 0.7743173837661743\n",
      "Batch : 645, Loss: 0.5888047218322754\n",
      "Batch : 646, Loss: 0.7421723008155823\n",
      "Batch : 647, Loss: 0.7785388827323914\n",
      "Batch : 648, Loss: 0.7140816450119019\n",
      "Batch : 649, Loss: 0.7944451570510864\n",
      "Batch : 650, Loss: 0.6026971340179443\n",
      "Batch : 651, Loss: 0.6955149173736572\n",
      "Batch : 652, Loss: 0.5489134192466736\n",
      "Batch : 653, Loss: 0.7899935841560364\n",
      "Batch : 654, Loss: 0.49408793449401855\n",
      "Batch : 655, Loss: 0.5722878575325012\n",
      "Batch : 656, Loss: 0.6144441366195679\n",
      "Batch : 657, Loss: 0.5623335242271423\n",
      "Batch : 658, Loss: 0.6599313616752625\n",
      "Batch : 659, Loss: 0.6563077569007874\n",
      "Batch : 660, Loss: 0.6379177570343018\n",
      "Batch : 661, Loss: 0.7641077637672424\n",
      "Batch : 662, Loss: 0.5449545383453369\n",
      "Batch : 663, Loss: 0.8047577738761902\n"
     ]
    },
    {
     "name": "stdout",
     "output_type": "stream",
     "text": [
      "Batch : 664, Loss: 0.7841007113456726\n",
      "Batch : 665, Loss: 0.6506662964820862\n",
      "Batch : 666, Loss: 0.7307195067405701\n",
      "Batch : 667, Loss: 0.6410345435142517\n",
      "Batch : 668, Loss: 0.7250717878341675\n",
      "Batch : 669, Loss: 0.6768350601196289\n",
      "Batch : 670, Loss: 0.6231622695922852\n",
      "Batch : 671, Loss: 0.5729408264160156\n",
      "Batch : 672, Loss: 0.8174839019775391\n",
      "Batch : 673, Loss: 0.6933030486106873\n",
      "Batch : 674, Loss: 0.7175322771072388\n",
      "Batch : 675, Loss: 0.946224570274353\n",
      "Batch : 676, Loss: 0.7622087597846985\n",
      "Batch : 677, Loss: 0.7000573873519897\n",
      "Batch : 678, Loss: 0.7299891114234924\n",
      "Batch : 679, Loss: 0.6694550514221191\n",
      "Batch : 680, Loss: 0.8548479676246643\n",
      "Batch : 681, Loss: 0.6192858219146729\n",
      "Batch : 682, Loss: 0.5953477621078491\n",
      "Batch : 683, Loss: 0.6394705176353455\n",
      "Batch : 684, Loss: 0.6285605430603027\n",
      "Batch : 685, Loss: 0.6416627764701843\n",
      "Batch : 686, Loss: 0.7026252746582031\n",
      "Batch : 687, Loss: 0.8573551774024963\n",
      "Batch : 688, Loss: 0.7493316531181335\n",
      "Batch : 689, Loss: 0.6379758715629578\n",
      "Batch : 690, Loss: 0.7253845930099487\n",
      "Batch : 691, Loss: 0.722724199295044\n",
      "Batch : 692, Loss: 0.7228804230690002\n",
      "Batch : 693, Loss: 0.7634343504905701\n",
      "Batch : 694, Loss: 0.7037131190299988\n",
      "Batch : 695, Loss: 0.751334011554718\n",
      "Batch : 696, Loss: 0.8502045273780823\n",
      "Batch : 697, Loss: 0.698296070098877\n",
      "Batch : 698, Loss: 0.7246081829071045\n",
      "Batch : 699, Loss: 0.8579838871955872\n",
      "Batch : 700, Loss: 0.8512060046195984\n",
      "Batch : 701, Loss: 0.6325383186340332\n",
      "Batch : 702, Loss: 0.6060781478881836\n",
      "Batch : 703, Loss: 0.642543375492096\n",
      "Batch : 704, Loss: 0.6040456295013428\n",
      "Batch : 705, Loss: 0.6563869714736938\n",
      "Batch : 706, Loss: 0.6933591365814209\n",
      "Batch : 707, Loss: 0.6598309278488159\n",
      "Batch : 708, Loss: 0.7111905813217163\n",
      "Batch : 709, Loss: 0.7098947763442993\n",
      "Batch : 710, Loss: 0.5268942713737488\n",
      "Batch : 711, Loss: 0.5999324917793274\n",
      "Batch : 712, Loss: 0.5754702687263489\n",
      "Batch : 713, Loss: 0.686796247959137\n",
      "Batch : 714, Loss: 0.8459368944168091\n",
      "Batch : 715, Loss: 0.8453646898269653\n",
      "Batch : 716, Loss: 0.5135639905929565\n",
      "Batch : 717, Loss: 0.6772300004959106\n",
      "Batch : 718, Loss: 0.8599544167518616\n",
      "Batch : 719, Loss: 0.6653790473937988\n",
      "Batch : 720, Loss: 0.589418351650238\n",
      "Batch : 721, Loss: 0.5106611251831055\n",
      "Batch : 722, Loss: 0.7208072543144226\n",
      "Batch : 723, Loss: 0.7574284672737122\n",
      "Batch : 724, Loss: 0.5713109970092773\n",
      "Batch : 725, Loss: 0.6344876289367676\n",
      "Batch : 726, Loss: 0.7381584048271179\n",
      "Batch : 727, Loss: 0.6380841135978699\n",
      "Batch : 728, Loss: 0.46753814816474915\n",
      "Batch : 729, Loss: 0.5607509016990662\n",
      "Batch : 730, Loss: 0.7164881825447083\n",
      "Batch : 731, Loss: 0.5633676648139954\n",
      "Batch : 732, Loss: 0.5870952606201172\n",
      "Batch : 733, Loss: 0.5883274078369141\n",
      "Batch : 734, Loss: 0.6148626208305359\n",
      "Batch : 735, Loss: 0.7213939428329468\n",
      "Batch : 736, Loss: 0.4307797849178314\n",
      "Batch : 737, Loss: 0.6481360793113708\n",
      "Batch : 738, Loss: 0.6371394395828247\n",
      "Batch : 739, Loss: 0.6756975054740906\n",
      "Batch : 740, Loss: 0.7486546635627747\n",
      "Batch : 741, Loss: 0.6897315979003906\n",
      "Batch : 742, Loss: 0.6026532053947449\n",
      "Batch : 743, Loss: 0.6625153422355652\n",
      "Batch : 744, Loss: 0.6829923391342163\n",
      "Batch : 745, Loss: 0.526500403881073\n",
      "Batch : 746, Loss: 0.790939211845398\n",
      "Batch : 747, Loss: 0.5677817463874817\n",
      "Batch : 748, Loss: 0.7619798183441162\n",
      "Batch : 749, Loss: 0.6309338212013245\n",
      "Batch : 750, Loss: 0.7070701718330383\n",
      "Batch : 751, Loss: 0.773996889591217\n",
      "Batch : 752, Loss: 0.5577032566070557\n",
      "Batch : 753, Loss: 0.5310572981834412\n",
      "Batch : 754, Loss: 0.6217383742332458\n",
      "Batch : 755, Loss: 0.8579649329185486\n",
      "Batch : 756, Loss: 0.9663988947868347\n",
      "Batch : 757, Loss: 0.6411929726600647\n",
      "Batch : 758, Loss: 0.6794131994247437\n",
      "Batch : 759, Loss: 0.6280460357666016\n",
      "Batch : 760, Loss: 0.6839550137519836\n",
      "Batch : 761, Loss: 0.78572678565979\n",
      "Batch : 762, Loss: 0.5712286233901978\n",
      "Batch : 763, Loss: 0.5666866302490234\n",
      "Batch : 764, Loss: 0.7862237691879272\n",
      "Batch : 765, Loss: 0.6183480024337769\n",
      "Batch : 766, Loss: 0.6539973020553589\n",
      "Batch : 767, Loss: 0.5405644774436951\n",
      "Batch : 768, Loss: 0.5332087278366089\n",
      "Batch : 769, Loss: 0.6553702354431152\n",
      "Batch : 770, Loss: 0.7181804776191711\n",
      "Batch : 771, Loss: 0.6026461124420166\n",
      "Batch : 772, Loss: 0.6189404726028442\n",
      "Batch : 773, Loss: 0.6852995753288269\n",
      "Batch : 774, Loss: 0.7801007032394409\n",
      "Batch : 775, Loss: 0.7938510775566101\n",
      "Batch : 776, Loss: 0.5412639379501343\n",
      "Batch : 777, Loss: 0.6222010850906372\n",
      "Batch : 778, Loss: 0.6346478462219238\n",
      "Batch : 779, Loss: 0.7856621742248535\n",
      "Batch : 780, Loss: 0.5848755836486816\n",
      "Batch : 781, Loss: 0.628122866153717\n",
      "Batch : 782, Loss: 0.6542067527770996\n",
      "Batch : 783, Loss: 0.494281142950058\n",
      "Batch : 784, Loss: 0.6025489568710327\n",
      "Batch : 785, Loss: 0.4379267394542694\n",
      "Batch : 786, Loss: 0.7119565606117249\n",
      "Batch : 787, Loss: 0.6327111124992371\n",
      "Batch : 788, Loss: 0.7229312062263489\n",
      "Batch : 789, Loss: 0.5683900117874146\n",
      "Batch : 790, Loss: 0.6728331446647644\n",
      "Batch : 791, Loss: 0.7412009835243225\n",
      "Batch : 792, Loss: 0.6553446054458618\n",
      "Batch : 793, Loss: 0.5619264841079712\n",
      "Batch : 794, Loss: 0.6990686058998108\n",
      "Batch : 795, Loss: 0.7397725582122803\n",
      "Batch : 796, Loss: 0.7853190898895264\n",
      "Batch : 797, Loss: 0.4593219757080078\n",
      "Batch : 798, Loss: 0.7962051630020142\n",
      "Batch : 799, Loss: 0.850084662437439\n",
      "Batch : 800, Loss: 0.644173264503479\n",
      "Batch : 801, Loss: 0.7752112150192261\n",
      "Batch : 802, Loss: 0.6062241196632385\n",
      "Batch : 803, Loss: 0.5656178593635559\n",
      "Batch : 804, Loss: 0.5906229615211487\n",
      "Batch : 805, Loss: 0.8203229904174805\n",
      "Batch : 806, Loss: 0.7541404962539673\n",
      "Batch : 807, Loss: 0.7168056964874268\n",
      "Batch : 808, Loss: 0.7375170588493347\n",
      "Batch : 809, Loss: 0.6201417446136475\n",
      "Batch : 810, Loss: 0.6517826318740845\n",
      "Batch : 811, Loss: 0.6451361775398254\n",
      "Batch : 812, Loss: 0.7428853511810303\n",
      "Batch : 813, Loss: 0.8247106075286865\n",
      "Batch : 814, Loss: 0.5603293776512146\n",
      "Batch : 815, Loss: 0.6148913502693176\n",
      "Batch : 816, Loss: 0.6041668653488159\n",
      "Batch : 817, Loss: 0.4878513216972351\n",
      "Batch : 818, Loss: 0.6280779838562012\n",
      "Batch : 819, Loss: 0.49517783522605896\n",
      "Batch : 820, Loss: 0.6525704264640808\n",
      "Batch : 821, Loss: 0.642062246799469\n",
      "Batch : 822, Loss: 0.5988874435424805\n",
      "Batch : 823, Loss: 0.8140575289726257\n",
      "Batch : 824, Loss: 0.6401622295379639\n",
      "Batch : 825, Loss: 0.7517709136009216\n",
      "Batch : 826, Loss: 0.508342444896698\n",
      "Batch : 827, Loss: 0.719398558139801\n",
      "Batch : 828, Loss: 0.5174965262413025\n",
      "Batch : 829, Loss: 0.8147938847541809\n",
      "Batch : 830, Loss: 0.7825590372085571\n",
      "Batch : 831, Loss: 0.6653332710266113\n",
      "Batch : 832, Loss: 0.5786102414131165\n",
      "Batch : 833, Loss: 0.5156089663505554\n",
      "Batch : 834, Loss: 0.5651971101760864\n",
      "Batch : 835, Loss: 0.7195414900779724\n",
      "Batch : 836, Loss: 0.69033282995224\n",
      "Batch : 837, Loss: 0.5901259183883667\n",
      "Batch : 838, Loss: 0.5502374768257141\n",
      "Batch : 839, Loss: 0.5123553276062012\n",
      "Batch : 840, Loss: 0.6042708158493042\n",
      "Batch : 841, Loss: 0.7666295170783997\n",
      "Batch : 842, Loss: 0.769445538520813\n",
      "Batch : 843, Loss: 0.4961366653442383\n",
      "Batch : 844, Loss: 0.5649458765983582\n",
      "Batch : 845, Loss: 0.5142069458961487\n",
      "Batch : 846, Loss: 0.5414140224456787\n",
      "Batch : 847, Loss: 0.9004976153373718\n",
      "Batch : 848, Loss: 0.9657650589942932\n",
      "Batch : 849, Loss: 0.6202118992805481\n",
      "Batch : 850, Loss: 0.5530405640602112\n",
      "Batch : 851, Loss: 0.7185742855072021\n",
      "Batch : 852, Loss: 0.7978414297103882\n",
      "Batch : 853, Loss: 0.6578130125999451\n",
      "Batch : 854, Loss: 0.5462313890457153\n",
      "Batch : 855, Loss: 0.5961170792579651\n",
      "Batch : 856, Loss: 0.5518974661827087\n",
      "Batch : 857, Loss: 0.5643539428710938\n",
      "Batch : 858, Loss: 0.473004549741745\n",
      "Batch : 859, Loss: 0.597301721572876\n",
      "Batch : 860, Loss: 0.6967312097549438\n",
      "Batch : 861, Loss: 0.5674178600311279\n",
      "Batch : 862, Loss: 0.6879090666770935\n",
      "Batch : 863, Loss: 0.5958415269851685\n",
      "Batch : 864, Loss: 0.5713783502578735\n",
      "Batch : 865, Loss: 0.8025645613670349\n",
      "Batch : 866, Loss: 0.7217404842376709\n",
      "Batch : 867, Loss: 0.6992794275283813\n",
      "Batch : 868, Loss: 0.619810163974762\n",
      "Batch : 869, Loss: 0.4548332095146179\n",
      "Batch : 870, Loss: 0.6955094337463379\n",
      "Batch : 871, Loss: 0.7798205614089966\n",
      "Batch : 872, Loss: 0.5998345017433167\n",
      "Batch : 873, Loss: 0.7454936504364014\n",
      "Batch : 874, Loss: 1.0852864980697632\n",
      "Batch : 875, Loss: 0.8183249235153198\n",
      "Batch : 876, Loss: 0.6938886642456055\n",
      "Batch : 877, Loss: 0.6240903735160828\n",
      "Batch : 878, Loss: 0.7339156270027161\n",
      "Batch : 879, Loss: 0.6852977275848389\n",
      "Batch : 880, Loss: 0.676050066947937\n",
      "Batch : 881, Loss: 0.4671080410480499\n",
      "Batch : 882, Loss: 0.6529180407524109\n"
     ]
    },
    {
     "name": "stdout",
     "output_type": "stream",
     "text": [
      "Batch : 883, Loss: 0.5022188425064087\n",
      "Batch : 884, Loss: 0.657915472984314\n",
      "Batch : 885, Loss: 0.7264878749847412\n",
      "Batch : 886, Loss: 0.7783383131027222\n",
      "Batch : 887, Loss: 0.4822810888290405\n",
      "Batch : 888, Loss: 0.5710926055908203\n",
      "Batch : 889, Loss: 0.6394854784011841\n",
      "Batch : 890, Loss: 0.4971812069416046\n",
      "Batch : 891, Loss: 0.5885553359985352\n",
      "Batch : 892, Loss: 0.48457208275794983\n",
      "Batch : 893, Loss: 0.809230387210846\n",
      "Batch : 894, Loss: 0.5771485567092896\n",
      "Batch : 895, Loss: 0.6818283200263977\n",
      "Batch : 896, Loss: 0.9435723423957825\n",
      "Batch : 897, Loss: 0.5399566888809204\n",
      "Batch : 898, Loss: 0.7407468557357788\n",
      "Batch : 899, Loss: 0.5620529055595398\n",
      "Batch : 900, Loss: 0.46863436698913574\n",
      "Batch : 901, Loss: 0.5863428115844727\n",
      "Batch : 902, Loss: 0.5673896670341492\n",
      "Batch : 903, Loss: 0.679092526435852\n",
      "Batch : 904, Loss: 0.5487489700317383\n",
      "Batch : 905, Loss: 0.7344993948936462\n",
      "Batch : 906, Loss: 0.6039249897003174\n",
      "Batch : 907, Loss: 0.6893512010574341\n",
      "Batch : 908, Loss: 0.7184978127479553\n",
      "Batch : 909, Loss: 0.4906938672065735\n",
      "Batch : 910, Loss: 0.48494675755500793\n",
      "Batch : 911, Loss: 0.6423081159591675\n",
      "Batch : 912, Loss: 0.5368221402168274\n",
      "Batch : 913, Loss: 0.46406012773513794\n",
      "Batch : 914, Loss: 0.62005615234375\n",
      "Batch : 915, Loss: 0.7073180079460144\n",
      "Batch : 916, Loss: 0.6444272398948669\n",
      "Batch : 917, Loss: 0.7688653469085693\n",
      "Batch : 918, Loss: 0.6696925759315491\n",
      "Batch : 919, Loss: 0.8276609778404236\n",
      "Batch : 920, Loss: 0.7278871536254883\n",
      "Batch : 921, Loss: 0.5826066732406616\n",
      "Batch : 922, Loss: 0.5325831174850464\n",
      "Batch : 923, Loss: 0.6281423568725586\n",
      "Batch : 924, Loss: 0.5486437082290649\n",
      "Batch : 925, Loss: 0.765691876411438\n",
      "Batch : 926, Loss: 0.5997574329376221\n",
      "Batch : 927, Loss: 0.6178085207939148\n",
      "Batch : 928, Loss: 0.6922202110290527\n",
      "Batch : 929, Loss: 0.4430730938911438\n",
      "Batch : 930, Loss: 0.7469320893287659\n",
      "Batch : 931, Loss: 0.5910533666610718\n",
      "Batch : 932, Loss: 0.5906420946121216\n",
      "Batch : 933, Loss: 0.6463283896446228\n",
      "Batch : 934, Loss: 0.5606772303581238\n",
      "Batch : 935, Loss: 0.4925343096256256\n",
      "Batch : 936, Loss: 0.6765074133872986\n",
      "Batch : 937, Loss: 0.46367043256759644\n",
      "Batch : 938, Loss: 0.5050868391990662\n",
      "Training loss: 1.0307267119190586\n"
     ]
    }
   ],
   "source": [
    "# let's go through it sequentially to see each batch \n",
    "model = FMNIST() # instantiate the class\n",
    "criterion = nn.NLLLoss()\n",
    "optimizer = optim.SGD(model.parameters(), lr=0.01)\n",
    "\n",
    "num_epochs = 1 # change \n",
    "\n",
    "for i in range(num_epochs):\n",
    "    cum_loss = 0\n",
    "    batch_num = 0\n",
    "\n",
    "    for batch_num, (images, labels) in enumerate(trainloader,1):\n",
    "        optimizer.zero_grad()\n",
    "        output = model(images)\n",
    "        loss = criterion(output, labels)\n",
    "        loss.backward()\n",
    "        optimizer.step()\n",
    "        \n",
    "        cum_loss += loss.item()\n",
    "        print(f'Batch : {batch_num}, Loss: {loss.item()}')\n",
    "       \n",
    "     \n",
    "    print(f\"Training loss: {cum_loss/len(trainloader)}\")"
   ]
  },
  {
   "cell_type": "code",
   "execution_count": 0,
   "id": "e42a4a9d",
   "metadata": {
    "colab": {},
    "colab_type": "code",
    "id": "-OVDFUnzFGpr"
   },
   "outputs": [],
   "source": [
    "# should see 938 batches because 60000/64 = 937.5\n",
    "# Training loss = average loss for all of the batches"
   ]
  },
  {
   "cell_type": "markdown",
   "id": "2cea888e",
   "metadata": {},
   "source": [
    "## Troubleshooting"
   ]
  },
  {
   "cell_type": "code",
   "execution_count": 73,
   "id": "c557cdea",
   "metadata": {
    "colab": {},
    "colab_type": "code",
    "id": "bCdIqY0tKbvS"
   },
   "outputs": [],
   "source": [
    "# Setting seeds to try and ensure we have the same results - this is not guaranteed across PyTorch releases.\n",
    "import torch\n",
    "torch.manual_seed(0)\n",
    "torch.backends.cudnn.deterministic = True\n",
    "torch.backends.cudnn.benchmark = False\n",
    "\n",
    "import numpy as np\n",
    "np.random.seed(0)"
   ]
  },
  {
   "cell_type": "code",
   "execution_count": 74,
   "id": "d34adbe5",
   "metadata": {
    "colab": {},
    "colab_type": "code",
    "id": "PCJzXv0OK1Bs"
   },
   "outputs": [],
   "source": [
    "from torchvision import datasets, transforms\n",
    "import torch.nn.functional as F\n",
    "from torch import nn\n",
    "\n",
    "mean, std = (0.5,), (0.5,)\n",
    "\n",
    "# Create a transform and normalise data\n",
    "transform = transforms.Compose([transforms.ToTensor(),\n",
    "                                transforms.Normalize(mean, std)\n",
    "                              ])\n",
    "\n",
    "# Download FMNIST training dataset and load training data\n",
    "trainset = datasets.FashionMNIST('~/.pytorch/FMNIST/', download=True, train=True, transform=transform)\n",
    "trainloader = torch.utils.data.DataLoader(trainset, batch_size=64, shuffle=True)\n",
    "\n",
    "# Download FMNIST test dataset and load test data\n",
    "testset = datasets.FashionMNIST('~/.pytorch/FMNIST/', download=True, train=False, transform=transform)\n",
    "testloader = torch.utils.data.DataLoader(testset, batch_size=64, shuffle=False)"
   ]
  },
  {
   "cell_type": "code",
   "execution_count": 80,
   "id": "30e51d8d",
   "metadata": {
    "colab": {},
    "colab_type": "code",
    "id": "rqMqFbIVrbFH"
   },
   "outputs": [],
   "source": [
    "class FMNIST(nn.Module):\n",
    "  def __init__(self):\n",
    "    super().__init__()\n",
    "    self.fc1 = nn.Linear(784, 128)\n",
    "    self.fc2 = nn.Linear(128,64)\n",
    "    self.fc3 = nn.Linear(64,10)\n",
    "    \n",
    "  def forward(self, x):\n",
    "    x = x.view(x.shape[0], -1)\n",
    "    \n",
    "    x = F.relu(self.fc1(x))\n",
    "    x = F.relu(self.fc2(x))\n",
    "    x = self.fc3(x)\n",
    "    x = F.log_softmax(x, dim=1)\n",
    "    \n",
    "    return x # what was missing\n",
    "    \n",
    "model = FMNIST()   "
   ]
  },
  {
   "cell_type": "code",
   "execution_count": 81,
   "id": "41682c10",
   "metadata": {},
   "outputs": [],
   "source": [
    "from IPython.core.debugger import set_trace # use it for debugging"
   ]
  },
  {
   "cell_type": "code",
   "execution_count": 82,
   "id": "c7246fa1",
   "metadata": {
    "colab": {},
    "colab_type": "code",
    "id": "VJLzWi0UqGWm"
   },
   "outputs": [
    {
     "name": "stdout",
     "output_type": "stream",
     "text": [
      "Training loss: 0.9705723759525621\n",
      "Training loss: 0.5528118016559687\n",
      "Training loss: 0.4888261685461632\n"
     ]
    }
   ],
   "source": [
    "from torch import optim\n",
    "\n",
    "criterion = nn.NLLLoss()\n",
    "optimizer = optim.SGD(model.parameters(), lr=0.01)\n",
    "\n",
    "num_epochs = 3\n",
    "\n",
    "for i in range(num_epochs):\n",
    "    cum_loss = 0\n",
    "    \n",
    "    for images, labels in trainloader:\n",
    "        #set_trace()\n",
    "        \n",
    "        optimizer.zero_grad()\n",
    "        output = model(images)\n",
    "        loss = criterion(output, labels)\n",
    "        loss.backward()\n",
    "        optimizer.step()\n",
    "        \n",
    "        cum_loss += loss.item()\n",
    "     \n",
    "    print(f\"Training loss: {cum_loss/len(trainloader)}\")"
   ]
  },
  {
   "cell_type": "code",
   "execution_count": 83,
   "id": "b55727d5",
   "metadata": {
    "colab": {},
    "colab_type": "code",
    "id": "UWYw7ZOzsS8U"
   },
   "outputs": [],
   "source": [
    "import matplotlib.pyplot as plt\n",
    "%matplotlib inline\n",
    "\n",
    "images, labels = next(iter(testloader))\n",
    "\n",
    "test_image_id = 0 \n",
    "img = images[test_image_id].view(1, 784) \n",
    "\n",
    "with torch.no_grad():\n",
    "    logps = model(img)"
   ]
  },
  {
   "cell_type": "code",
   "execution_count": 84,
   "id": "737aa617",
   "metadata": {
    "colab": {},
    "colab_type": "code",
    "id": "2tRjoEDSqY8X"
   },
   "outputs": [
    {
     "data": {
      "text/plain": [
       "tensor([[1.1029e-05, 1.0754e-06, 3.0939e-05, 2.3998e-05, 4.3286e-05, 2.1061e-01,\n",
       "         3.1861e-05, 3.4933e-01, 5.3847e-03, 4.3453e-01]])"
      ]
     },
     "execution_count": 84,
     "metadata": {},
     "output_type": "execute_result"
    }
   ],
   "source": [
    "ps = torch.exp(logps)\n",
    "ps"
   ]
  },
  {
   "cell_type": "code",
   "execution_count": 85,
   "id": "1fab4748",
   "metadata": {
    "colab": {},
    "colab_type": "code",
    "id": "dpP_RLV-qkc6"
   },
   "outputs": [
    {
     "data": {
      "text/plain": [
       "array([1.1028985e-05, 1.0753558e-06, 3.0939282e-05, 2.3998211e-05,\n",
       "       4.3285978e-05, 2.1061036e-01, 3.1860513e-05, 3.4932932e-01,\n",
       "       5.3847106e-03, 4.3453348e-01], dtype=float32)"
      ]
     },
     "execution_count": 85,
     "metadata": {},
     "output_type": "execute_result"
    }
   ],
   "source": [
    "nps = ps.numpy()[0]\n",
    "nps"
   ]
  },
  {
   "cell_type": "code",
   "execution_count": 86,
   "id": "07e48b3e",
   "metadata": {
    "colab": {},
    "colab_type": "code",
    "id": "kBf23XrtqrB6"
   },
   "outputs": [
    {
     "data": {
      "text/plain": [
       "<BarContainer object of 10 artists>"
      ]
     },
     "execution_count": 86,
     "metadata": {},
     "output_type": "execute_result"
    },
    {
     "data": {
      "image/png": "[encoded data removed]",
      "text/plain": [
       "<Figure size 432x288 with 1 Axes>"
      ]
     },
     "metadata": {
      "needs_background": "light"
     },
     "output_type": "display_data"
    }
   ],
   "source": [
    "FMNIST_labels = ['T-shirt/top','Trouser','Pullover','Dress','Coat','Sandal','Shirt','Sport Shoe','Bag','Ankle Boot']\n",
    "plt.xticks(np.arange(10),labels=FMNIST_labels,rotation='vertical')\n",
    "plt.bar(np.arange(10), nps)"
   ]
  },
  {
   "cell_type": "code",
   "execution_count": 87,
   "id": "4a0fb14b",
   "metadata": {
    "colab": {},
    "colab_type": "code",
    "id": "Y7gY5hARpOp4"
   },
   "outputs": [
    {
     "data": {
      "text/plain": [
       "<matplotlib.image.AxesImage at 0x21cd6a987f0>"
      ]
     },
     "execution_count": 87,
     "metadata": {},
     "output_type": "execute_result"
    },
    {
     "data": {
      "image/png": "[encoded data removed]",
      "text/plain": [
       "<Figure size 432x288 with 1 Axes>"
      ]
     },
     "metadata": {
      "needs_background": "light"
     },
     "output_type": "display_data"
    }
   ],
   "source": [
    "def denormalize(tensor):\n",
    "  tensor = tensor*0.5 + 0.5\n",
    "  return tensor\n",
    "  \n",
    "img = img.view(28,-1)\n",
    "img = denormalize(img)\n",
    "plt.imshow(img,cmap='gray')"
   ]
  },
  {
   "cell_type": "markdown",
   "id": "50bdb53a",
   "metadata": {},
   "source": [
    "## CPU vs GRU\n",
    "When training models, we often use GPUs. They accelerate existing infrastructure by computing compute-intensive portions of the algorithms.\n",
    "* CPU: for general-purpose computing\n",
    "* GPU: for extensive calsulations such as matrix multiplications\n",
    "\n",
    "### CUDA\n",
    "CUDA is a parallel computing platform and programming model developed by NVidia.\n",
    "\n",
    "* at the top of the notebook, specify the CUDA devie\n",
    "* transfer NN to the GPU\n",
    "* send all inputs and targets to the GPU\n",
    "\n",
    "Training: use GPU memory  \n",
    "Testing: use CPU memory\n",
    "\n",
    "*Models and testing files should be on the same type of memory*\n",
    "\n",
    "---\n",
    "\n",
    "Ways to run the notebook on GPU **in Google Collab**:\n",
    "* Edit -> Notebook Settings -> Hardware Accelerator -> GPU\n",
    "* Runtime -> Change runtime type -> GPU\n"
   ]
  },
  {
   "cell_type": "code",
   "execution_count": 88,
   "id": "9f36cc21",
   "metadata": {
    "colab": {},
    "colab_type": "code",
    "id": "PzCCniVwNTdp"
   },
   "outputs": [],
   "source": [
    "# Setting seeds to try and ensure we have the same results - this is not guaranteed across PyTorch releases.\n",
    "import torch\n",
    "torch.manual_seed(0)\n",
    "torch.backends.cudnn.deterministic = True\n",
    "torch.backends.cudnn.benchmark = False\n",
    "\n",
    "import numpy as np\n",
    "np.random.seed(0)"
   ]
  },
  {
   "cell_type": "code",
   "execution_count": 89,
   "id": "b2bf425f",
   "metadata": {
    "colab": {},
    "colab_type": "code",
    "id": "5S4Dfhtg5LyT"
   },
   "outputs": [
    {
     "data": {
      "text/plain": [
       "device(type='cpu')"
      ]
     },
     "execution_count": 89,
     "metadata": {},
     "output_type": "execute_result"
    }
   ],
   "source": [
    "device = torch.device('cuda' if torch.cuda.is_available() else 'cpu')\n",
    "device"
   ]
  },
  {
   "cell_type": "code",
   "execution_count": 90,
   "id": "6786f81a",
   "metadata": {
    "colab": {},
    "colab_type": "code",
    "id": "PCJzXv0OK1Bs"
   },
   "outputs": [],
   "source": [
    "from torchvision import datasets, transforms\n",
    "import torch.nn.functional as F\n",
    "from torch import nn\n",
    "\n",
    "mean, std = (0.5,), (0.5,)\n",
    "\n",
    "# Create a transform and normalise data\n",
    "transform = transforms.Compose([transforms.ToTensor(),\n",
    "                                transforms.Normalize(mean, std)\n",
    "                              ])\n",
    "\n",
    "# Download FMNIST training dataset and load training data\n",
    "trainset = datasets.FashionMNIST('~/.pytorch/FMNIST/', download=True, train=True, transform=transform)\n",
    "trainloader = torch.utils.data.DataLoader(trainset, batch_size=64, shuffle=True)\n",
    "\n",
    "# Download FMNIST test dataset and load test data\n",
    "testset = datasets.FashionMNIST('~/.pytorch/FMNIST/', download=True, train=False, transform=transform)\n",
    "testloader = torch.utils.data.DataLoader(testset, batch_size=64, shuffle=False)"
   ]
  },
  {
   "cell_type": "code",
   "execution_count": 91,
   "id": "2a879b67",
   "metadata": {
    "colab": {},
    "colab_type": "code",
    "id": "rqMqFbIVrbFH"
   },
   "outputs": [],
   "source": [
    "class FMNIST(nn.Module):\n",
    "  def __init__(self):\n",
    "    super().__init__()\n",
    "    self.fc1 = nn.Linear(784, 128)\n",
    "    self.fc2 = nn.Linear(128,64)\n",
    "    self.fc3 = nn.Linear(64,10)\n",
    "    \n",
    "  def forward(self, x):\n",
    "    x = x.view(x.shape[0], -1)\n",
    "    \n",
    "    x = F.relu(self.fc1(x))\n",
    "    x = F.relu(self.fc2(x))\n",
    "    x = self.fc3(x)\n",
    "    x = F.log_softmax(x, dim=1)\n",
    "    \n",
    "    return x\n",
    "\n",
    "model = FMNIST()"
   ]
  },
  {
   "cell_type": "code",
   "execution_count": 98,
   "id": "93b33823",
   "metadata": {},
   "outputs": [
    {
     "data": {
      "text/plain": [
       "FMNIST(\n",
       "  (fc1): Linear(in_features=784, out_features=128, bias=True)\n",
       "  (fc2): Linear(in_features=128, out_features=64, bias=True)\n",
       "  (fc3): Linear(in_features=64, out_features=10, bias=True)\n",
       ")"
      ]
     },
     "execution_count": 98,
     "metadata": {},
     "output_type": "execute_result"
    }
   ],
   "source": [
    "# move to GPU memory\n",
    "model.to(device)"
   ]
  },
  {
   "cell_type": "code",
   "execution_count": 92,
   "id": "4053db38",
   "metadata": {
    "colab": {},
    "colab_type": "code",
    "id": "VJLzWi0UqGWm"
   },
   "outputs": [
    {
     "name": "stdout",
     "output_type": "stream",
     "text": [
      "Training loss: 1.0338174501843036\n",
      "Training loss: 0.5608082033360182\n",
      "Training loss: 0.4914347628699437\n"
     ]
    }
   ],
   "source": [
    "from torch import optim\n",
    "criterion = nn.NLLLoss()\n",
    "optimizer = optim.SGD(model.parameters(), lr=0.01)\n",
    "\n",
    "num_epochs = 3\n",
    "\n",
    "for i in range(num_epochs):\n",
    "    cum_loss = 0\n",
    "    \n",
    "    for images, labels in trainloader:\n",
    "        # move to GPU\n",
    "        images = images.to(device)\n",
    "        labels = labels.to(device)\n",
    "        \n",
    "        optimizer.zero_grad()\n",
    "        output = model(images)\n",
    "        loss = criterion(output, labels)\n",
    "        loss.backward()\n",
    "        optimizer.step()\n",
    "        \n",
    "        cum_loss += loss.item()\n",
    "     \n",
    "    print(f\"Training loss: {cum_loss/len(trainloader)}\")"
   ]
  },
  {
   "cell_type": "code",
   "execution_count": 100,
   "id": "2d8824cd",
   "metadata": {
    "colab": {},
    "colab_type": "code",
    "id": "UreWrEgjqQe3"
   },
   "outputs": [],
   "source": [
    "import matplotlib.pyplot as plt\n",
    "%matplotlib inline\n",
    "\n",
    "# should be on CPU from the beginning\n",
    "images, labels = next(iter(testloader))\n",
    "\n",
    "test_image_id = 0 \n",
    "img = images[test_image_id].view(1, 784) \n",
    "\n",
    "# move back to CPU for testing\n",
    "model.to('cpu')\n",
    "with torch.no_grad():\n",
    "    logps = model(img)"
   ]
  },
  {
   "cell_type": "code",
   "execution_count": 101,
   "id": "12add5ac",
   "metadata": {
    "colab": {},
    "colab_type": "code",
    "id": "2tRjoEDSqY8X"
   },
   "outputs": [
    {
     "data": {
      "text/plain": [
       "tensor([[1.4896e-06, 5.2015e-07, 8.4381e-06, 8.8204e-07, 5.9689e-06, 1.8997e-01,\n",
       "         4.8245e-06, 1.6213e-01, 4.4144e-03, 6.4347e-01]])"
      ]
     },
     "execution_count": 101,
     "metadata": {},
     "output_type": "execute_result"
    }
   ],
   "source": [
    "ps = torch.exp(logps)\n",
    "ps"
   ]
  },
  {
   "cell_type": "code",
   "execution_count": 102,
   "id": "25db3e3a",
   "metadata": {
    "colab": {},
    "colab_type": "code",
    "id": "dpP_RLV-qkc6"
   },
   "outputs": [
    {
     "data": {
      "text/plain": [
       "array([1.4896160e-06, 5.2015196e-07, 8.4380827e-06, 8.8204155e-07,\n",
       "       5.9689005e-06, 1.8996972e-01, 4.8245338e-06, 1.6212720e-01,\n",
       "       4.4143698e-03, 6.4346659e-01], dtype=float32)"
      ]
     },
     "execution_count": 102,
     "metadata": {},
     "output_type": "execute_result"
    }
   ],
   "source": [
    "nps = ps.numpy()[0]\n",
    "nps"
   ]
  },
  {
   "cell_type": "code",
   "execution_count": 103,
   "id": "7a7e0a41",
   "metadata": {
    "colab": {},
    "colab_type": "code",
    "id": "kBf23XrtqrB6"
   },
   "outputs": [
    {
     "data": {
      "text/plain": [
       "<BarContainer object of 10 artists>"
      ]
     },
     "execution_count": 103,
     "metadata": {},
     "output_type": "execute_result"
    },
    {
     "data": {
      "image/png": "[encoded data removed]",
      "text/plain": [
       "<Figure size 432x288 with 1 Axes>"
      ]
     },
     "metadata": {
      "needs_background": "light"
     },
     "output_type": "display_data"
    }
   ],
   "source": [
    "FMNIST_labels = ['T-shirt/top','Trouser','Pullover','Dress','Coat','Sandal','Shirt','Sport Shoes','Bag','Ankle Boot']\n",
    "plt.xticks(np.arange(10),labels=FMNIST_labels,rotation='vertical')\n",
    "plt.bar(np.arange(10), nps)"
   ]
  },
  {
   "cell_type": "code",
   "execution_count": 104,
   "id": "e0820082",
   "metadata": {
    "colab": {},
    "colab_type": "code",
    "id": "2dwV20YRMwq5"
   },
   "outputs": [
    {
     "data": {
      "text/plain": [
       "<matplotlib.image.AxesImage at 0x21cd6c40f40>"
      ]
     },
     "execution_count": 104,
     "metadata": {},
     "output_type": "execute_result"
    },
    {
     "data": {
      "image/png": "[encoded data removed]",
      "text/plain": [
       "<Figure size 432x288 with 1 Axes>"
      ]
     },
     "metadata": {
      "needs_background": "light"
     },
     "output_type": "display_data"
    }
   ],
   "source": [
    "def denormalize(tensor):\n",
    "  tensor = tensor*0.5 + 0.5\n",
    "  return tensor\n",
    "  \n",
    "img = img.view(28,-1)\n",
    "img = denormalize(img)\n",
    "plt.imshow(img,cmap='gray')"
   ]
  },
  {
   "cell_type": "markdown",
   "id": "52419aea",
   "metadata": {},
   "source": [
    "## Validation\n"
   ]
  },
  {
   "cell_type": "code",
   "execution_count": 105,
   "id": "4ffbf9b9",
   "metadata": {
    "colab": {},
    "colab_type": "code",
    "id": "PzCCniVwNTdp"
   },
   "outputs": [],
   "source": [
    "# Setting seeds to try and ensure we have the same results - this is not guaranteed across PyTorch releases.\n",
    "import torch\n",
    "torch.manual_seed(0)\n",
    "torch.backends.cudnn.deterministic = True\n",
    "torch.backends.cudnn.benchmark = False\n",
    "\n",
    "import numpy as np\n",
    "np.random.seed(0)"
   ]
  },
  {
   "cell_type": "code",
   "execution_count": 106,
   "id": "513fe024",
   "metadata": {
    "colab": {},
    "colab_type": "code",
    "id": "PCJzXv0OK1Bs"
   },
   "outputs": [],
   "source": [
    "from torchvision import datasets, transforms\n",
    "import torch.nn.functional as F\n",
    "from torch import nn\n",
    "\n",
    "mean, std = (0.5,), (0.5,)\n",
    "\n",
    "# Create a transform and normalise data\n",
    "transform = transforms.Compose([transforms.ToTensor(),\n",
    "                                transforms.Normalize(mean, std)\n",
    "                              ])\n",
    "\n",
    "# Download FMNIST training dataset and load training data\n",
    "trainset = datasets.FashionMNIST('~/.pytorch/FMNIST/', download=True, train=True, transform=transform)\n",
    "trainloader = torch.utils.data.DataLoader(trainset, batch_size=64, shuffle=True)\n",
    "\n",
    "# Download FMNIST test dataset and load test data\n",
    "testset = datasets.FashionMNIST('~/.pytorch/FMNIST/', download=True, train=False, transform=transform)\n",
    "testloader = torch.utils.data.DataLoader(testset, batch_size=64, shuffle=False)"
   ]
  },
  {
   "cell_type": "code",
   "execution_count": 107,
   "id": "0ae4d38a",
   "metadata": {
    "colab": {},
    "colab_type": "code",
    "id": "rqMqFbIVrbFH"
   },
   "outputs": [],
   "source": [
    "class FMNIST(nn.Module):\n",
    "  def __init__(self):\n",
    "    super().__init__()\n",
    "    self.fc1 = nn.Linear(784, 128)\n",
    "    self.fc2 = nn.Linear(128,64)\n",
    "    self.fc3 = nn.Linear(64,10)\n",
    "    \n",
    "  def forward(self, x):\n",
    "    x = x.view(x.shape[0], -1)\n",
    "    \n",
    "    x = F.relu(self.fc1(x))\n",
    "    x = F.relu(self.fc2(x))\n",
    "    x = self.fc3(x)\n",
    "    x = F.log_softmax(x, dim=1)\n",
    "    \n",
    "    return x\n",
    "\n",
    "model = FMNIST()"
   ]
  },
  {
   "cell_type": "code",
   "execution_count": 108,
   "id": "c0b6bd96",
   "metadata": {
    "colab": {},
    "colab_type": "code",
    "id": "oNNyI5YRZ7H1"
   },
   "outputs": [
    {
     "name": "stdout",
     "output_type": "stream",
     "text": [
      "Training loss: 1.0338174501843036\n",
      "Training loss: 0.5608082033360182\n",
      "Training loss: 0.4914347628699437\n"
     ]
    }
   ],
   "source": [
    "from torch import optim\n",
    "\n",
    "criterion = nn.NLLLoss()\n",
    "optimizer = optim.SGD(model.parameters(), lr=0.01)\n",
    "\n",
    "num_epochs = 3\n",
    "\n",
    "for i in range(num_epochs):\n",
    "    cum_loss = 0\n",
    "\n",
    "    for images, labels in trainloader:\n",
    "        optimizer.zero_grad()\n",
    "        output = model(images)\n",
    "        loss = criterion(output, labels)\n",
    "        loss.backward()\n",
    "        optimizer.step()\n",
    "        \n",
    "        cum_loss += loss.item()\n",
    "     \n",
    "    print(f\"Training loss: {cum_loss/len(trainloader)}\")"
   ]
  },
  {
   "cell_type": "code",
   "execution_count": 109,
   "id": "9f3f0146",
   "metadata": {
    "colab": {},
    "colab_type": "code",
    "id": "UWYw7ZOzsS8U"
   },
   "outputs": [],
   "source": [
    "import matplotlib.pyplot as plt\n",
    "%matplotlib inline\n",
    "\n",
    "images, labels = next(iter(testloader))\n",
    "\n",
    "test_image_id = 0 \n",
    "img = images[test_image_id].view(1, 784) \n",
    "\n",
    "with torch.no_grad():\n",
    "    logps = model(img)"
   ]
  },
  {
   "cell_type": "code",
   "execution_count": 110,
   "id": "4a662ca6",
   "metadata": {
    "colab": {},
    "colab_type": "code",
    "id": "2tRjoEDSqY8X"
   },
   "outputs": [
    {
     "data": {
      "text/plain": [
       "tensor([[1.4896e-06, 5.2015e-07, 8.4381e-06, 8.8204e-07, 5.9689e-06, 1.8997e-01,\n",
       "         4.8245e-06, 1.6213e-01, 4.4144e-03, 6.4347e-01]])"
      ]
     },
     "execution_count": 110,
     "metadata": {},
     "output_type": "execute_result"
    }
   ],
   "source": [
    "ps = torch.exp(logps)\n",
    "ps"
   ]
  },
  {
   "cell_type": "code",
   "execution_count": 111,
   "id": "712267a6",
   "metadata": {
    "colab": {},
    "colab_type": "code",
    "id": "dpP_RLV-qkc6"
   },
   "outputs": [
    {
     "data": {
      "text/plain": [
       "array([1.4896160e-06, 5.2015196e-07, 8.4380827e-06, 8.8204155e-07,\n",
       "       5.9689005e-06, 1.8996972e-01, 4.8245338e-06, 1.6212720e-01,\n",
       "       4.4143698e-03, 6.4346659e-01], dtype=float32)"
      ]
     },
     "execution_count": 111,
     "metadata": {},
     "output_type": "execute_result"
    }
   ],
   "source": [
    "nps = ps.numpy()[0]\n",
    "nps"
   ]
  },
  {
   "cell_type": "code",
   "execution_count": 112,
   "id": "ed26f439",
   "metadata": {
    "colab": {},
    "colab_type": "code",
    "id": "kBf23XrtqrB6"
   },
   "outputs": [
    {
     "data": {
      "text/plain": [
       "<BarContainer object of 10 artists>"
      ]
     },
     "execution_count": 112,
     "metadata": {},
     "output_type": "execute_result"
    },
    {
     "data": {
      "image/png": "[encoded data removed]",
      "text/plain": [
       "<Figure size 432x288 with 1 Axes>"
      ]
     },
     "metadata": {
      "needs_background": "light"
     },
     "output_type": "display_data"
    }
   ],
   "source": [
    "FMNIST_labels = ['T-shirt/top','Trouser','Pullover','Dress','Coat','Sandal','Shirt','Sport Shoes','Bag','Ankle Boots']\n",
    "plt.xticks(np.arange(10),labels=FMNIST_labels,rotation='vertical')\n",
    "plt.bar(np.arange(10), nps)"
   ]
  },
  {
   "cell_type": "code",
   "execution_count": 113,
   "id": "3bd9c191",
   "metadata": {
    "colab": {},
    "colab_type": "code",
    "id": "Y7gY5hARpOp4"
   },
   "outputs": [
    {
     "data": {
      "text/plain": [
       "<matplotlib.image.AxesImage at 0x21cd746afa0>"
      ]
     },
     "execution_count": 113,
     "metadata": {},
     "output_type": "execute_result"
    },
    {
     "data": {
      "image/png": "[encoded data removed]",
      "text/plain": [
       "<Figure size 432x288 with 1 Axes>"
      ]
     },
     "metadata": {
      "needs_background": "light"
     },
     "output_type": "display_data"
    }
   ],
   "source": [
    "def denormalize(tensor):\n",
    "  tensor = tensor*0.5 + 0.5\n",
    "  return tensor\n",
    "  \n",
    "img = img.view(28,-1)\n",
    "img = denormalize(img)\n",
    "plt.imshow(img,cmap='gray')"
   ]
  },
  {
   "cell_type": "code",
   "execution_count": 114,
   "id": "2c83a438",
   "metadata": {
    "colab": {},
    "colab_type": "code",
    "id": "AxTiil7cXOAz"
   },
   "outputs": [
    {
     "name": "stdout",
     "output_type": "stream",
     "text": [
      "tensor([[1.4896e-06, 5.2015e-07, 8.4381e-06, 8.8204e-07, 5.9689e-06, 1.8997e-01,\n",
      "         4.8245e-06, 1.6213e-01, 4.4144e-03, 6.4347e-01],\n",
      "        [1.2188e-03, 4.6980e-05, 9.0725e-01, 1.9131e-04, 2.3490e-02, 1.1147e-05,\n",
      "         6.6653e-02, 9.7439e-09, 1.1407e-03, 5.0562e-07],\n",
      "        [1.1597e-05, 9.9983e-01, 2.9462e-05, 7.5223e-05, 5.5925e-05, 2.3330e-08,\n",
      "         1.2206e-07, 4.7394e-07, 4.6876e-09, 9.1409e-09],\n",
      "        [3.1499e-06, 9.9961e-01, 3.7330e-05, 3.0674e-04, 3.7486e-05, 1.6265e-07,\n",
      "         9.6245e-08, 1.9846e-06, 9.5102e-09, 5.5129e-08],\n",
      "        [1.1150e-01, 6.7287e-04, 1.8001e-01, 1.2703e-02, 1.5316e-02, 3.0327e-04,\n",
      "         6.6901e-01, 1.5421e-06, 1.0464e-02, 1.4989e-05],\n",
      "        [1.5485e-03, 9.8683e-01, 9.0868e-04, 1.9416e-03, 8.6741e-03, 5.6617e-07,\n",
      "         9.2075e-05, 4.4322e-06, 1.5532e-06, 2.6432e-07],\n",
      "        [1.0816e-02, 1.0569e-03, 5.5353e-02, 6.6553e-04, 7.9174e-01, 1.1839e-04,\n",
      "         1.3836e-01, 7.8579e-07, 1.8907e-03, 1.2058e-06],\n",
      "        [5.7395e-03, 3.8717e-04, 9.4565e-02, 2.3200e-03, 2.1569e-01, 5.0234e-04,\n",
      "         6.6566e-01, 7.3837e-07, 1.5122e-02, 7.1543e-06],\n",
      "        [1.0630e-02, 3.7859e-03, 2.3832e-02, 1.5216e-02, 6.4458e-03, 7.9903e-01,\n",
      "         1.2871e-02, 1.0110e-01, 2.5428e-02, 1.6554e-03],\n",
      "        [1.6509e-05, 1.2701e-05, 2.0509e-05, 3.9566e-05, 5.6326e-05, 3.1062e-02,\n",
      "         1.2708e-05, 9.6325e-01, 1.9697e-03, 3.5583e-03],\n",
      "        [6.5639e-04, 1.2965e-02, 3.4792e-01, 1.0108e-03, 5.8526e-01, 5.2740e-05,\n",
      "         5.1847e-02, 3.2058e-07, 2.9017e-04, 4.0901e-06],\n",
      "        [6.7707e-05, 3.4624e-05, 7.8345e-04, 3.9461e-05, 3.1758e-04, 8.4067e-01,\n",
      "         2.6071e-04, 7.8685e-02, 1.2095e-02, 6.7050e-02],\n",
      "        [2.3702e-04, 1.4964e-04, 2.6125e-03, 1.3236e-03, 1.7083e-03, 8.6590e-01,\n",
      "         7.3787e-04, 5.1466e-02, 7.4585e-02, 1.2783e-03],\n",
      "        [1.8572e-03, 4.5957e-03, 2.6110e-04, 9.9068e-01, 2.5190e-04, 5.7440e-06,\n",
      "         2.7939e-04, 1.3529e-03, 6.9251e-04, 2.8168e-05],\n",
      "        [3.7145e-04, 9.5195e-05, 1.9109e-02, 9.3908e-04, 9.0559e-01, 7.6517e-06,\n",
      "         6.2514e-02, 2.8226e-07, 1.1373e-02, 2.5890e-06],\n",
      "        [2.1652e-04, 9.8764e-01, 5.7423e-04, 1.0984e-02, 5.5767e-04, 9.2492e-07,\n",
      "         1.4753e-05, 1.1992e-05, 6.1782e-07, 5.6631e-07],\n",
      "        [7.3786e-02, 9.6779e-03, 7.3513e-01, 4.7323e-03, 3.1433e-02, 6.0889e-04,\n",
      "         1.4341e-01, 1.1462e-06, 1.2137e-03, 6.7057e-06],\n",
      "        [2.2943e-02, 2.1045e-04, 2.7524e-01, 2.0901e-03, 2.0073e-01, 6.3489e-05,\n",
      "         4.8173e-01, 3.3214e-07, 1.6993e-02, 5.3907e-06],\n",
      "        [3.1866e-04, 3.5975e-06, 2.2356e-03, 3.3732e-05, 1.6144e-03, 9.3892e-03,\n",
      "         1.7785e-03, 1.1030e-03, 9.8127e-01, 2.2568e-03],\n",
      "        [9.5169e-01, 5.4699e-05, 2.9019e-03, 3.5368e-03, 8.4162e-05, 1.0943e-07,\n",
      "         4.1669e-02, 6.3854e-09, 6.4375e-05, 1.3652e-08],\n",
      "        [3.9853e-01, 1.1858e-02, 2.4751e-01, 2.5114e-02, 3.5460e-02, 1.4478e-03,\n",
      "         2.5955e-01, 7.9038e-05, 1.9900e-02, 5.4686e-04],\n",
      "        [2.8323e-05, 7.1421e-05, 3.2529e-04, 1.3277e-04, 4.1156e-04, 5.3588e-01,\n",
      "         6.3157e-05, 4.4454e-01, 1.2199e-02, 6.3504e-03],\n",
      "        [7.8993e-08, 4.9712e-07, 9.1432e-07, 6.6984e-07, 2.4100e-06, 2.3683e-02,\n",
      "         1.0499e-07, 9.5587e-01, 6.5932e-04, 1.9780e-02],\n",
      "        [5.2290e-06, 4.1976e-06, 1.8948e-05, 6.4079e-06, 1.3724e-05, 4.0657e-01,\n",
      "         4.5997e-06, 5.0740e-01, 2.0265e-03, 8.3956e-02],\n",
      "        [3.4894e-06, 9.9971e-01, 2.0503e-05, 2.3542e-04, 2.9170e-05, 1.8700e-07,\n",
      "         5.9082e-08, 3.9932e-06, 1.0626e-08, 5.0958e-08],\n",
      "        [5.6065e-03, 2.7361e-03, 7.9556e-01, 1.0171e-02, 5.4617e-02, 3.9247e-03,\n",
      "         1.1748e-01, 4.1987e-06, 9.8952e-03, 1.1212e-05],\n",
      "        [1.1514e-03, 9.5453e-05, 9.1982e-02, 5.2067e-04, 4.1876e-01, 2.5440e-05,\n",
      "         4.8159e-01, 5.1839e-08, 5.8731e-03, 3.3734e-06],\n",
      "        [4.8957e-01, 1.7786e-02, 8.2291e-03, 4.2128e-01, 1.8711e-02, 3.5321e-07,\n",
      "         4.4005e-02, 3.9769e-06, 4.1471e-04, 5.8092e-07],\n",
      "        [3.0208e-07, 7.5979e-08, 1.0148e-06, 1.3382e-07, 9.8145e-07, 2.3284e-02,\n",
      "         5.7930e-07, 1.1645e-01, 2.5218e-03, 8.5774e-01],\n",
      "        [8.3629e-02, 1.5653e-03, 7.9520e-03, 2.5224e-01, 3.8097e-01, 2.3117e-06,\n",
      "         2.6035e-01, 1.1947e-05, 1.3274e-02, 3.3077e-06],\n",
      "        [3.3703e-06, 9.3588e-08, 7.1412e-05, 1.2475e-05, 3.3475e-04, 8.3508e-04,\n",
      "         1.0044e-04, 1.4869e-04, 9.9838e-01, 1.1431e-04],\n",
      "        [9.1374e-03, 1.3146e-05, 5.5398e-03, 1.7378e-02, 2.0468e-03, 8.2038e-04,\n",
      "         2.1557e-02, 4.4813e-05, 9.4343e-01, 3.7343e-05],\n",
      "        [1.3739e-02, 1.0495e-02, 7.2374e-03, 9.3441e-01, 7.5337e-03, 6.2808e-04,\n",
      "         1.1512e-02, 2.1155e-03, 1.2191e-02, 1.3616e-04],\n",
      "        [5.7981e-02, 4.9651e-04, 1.4674e-02, 8.7381e-01, 5.2577e-03, 8.0293e-07,\n",
      "         4.4153e-02, 4.2817e-06, 3.6175e-03, 5.5468e-07],\n",
      "        [2.0468e-04, 3.3164e-06, 6.0196e-03, 1.1808e-03, 9.2198e-04, 4.5997e-03,\n",
      "         2.3366e-03, 8.8039e-05, 9.8460e-01, 4.6803e-05],\n",
      "        [7.2453e-01, 4.0604e-04, 2.1892e-02, 2.3534e-02, 1.3754e-03, 4.3412e-05,\n",
      "         2.2650e-01, 1.3239e-06, 1.7126e-03, 1.3137e-06],\n",
      "        [3.9922e-06, 1.2361e-05, 6.2645e-06, 8.3773e-06, 2.8876e-05, 1.7016e-02,\n",
      "         2.8685e-06, 9.7704e-01, 4.7634e-04, 5.4036e-03],\n",
      "        [1.6042e-03, 3.0998e-04, 3.3989e-03, 1.4101e-03, 6.3110e-04, 9.5660e-01,\n",
      "         3.0515e-03, 2.6795e-02, 5.0988e-03, 1.1011e-03],\n",
      "        [2.0982e-06, 1.1295e-05, 1.1828e-05, 5.6239e-06, 5.0081e-05, 1.7174e-02,\n",
      "         2.2652e-06, 9.7656e-01, 8.5264e-04, 5.3259e-03],\n",
      "        [1.8680e-08, 3.5557e-09, 5.5629e-08, 4.0829e-09, 3.3515e-08, 2.4927e-03,\n",
      "         4.8930e-08, 7.5176e-03, 1.7906e-04, 9.8981e-01],\n",
      "        [6.5774e-01, 7.5881e-06, 1.7192e-03, 3.5766e-03, 9.3998e-04, 7.1394e-08,\n",
      "         3.3546e-01, 1.0214e-08, 5.5465e-04, 7.0170e-08],\n",
      "        [5.0628e-06, 9.9976e-01, 1.6894e-05, 1.4504e-04, 6.8761e-05, 3.6843e-08,\n",
      "         1.0843e-07, 5.9055e-06, 5.8470e-09, 1.1204e-07],\n",
      "        [2.0206e-01, 5.3193e-03, 5.5168e-02, 2.4090e-01, 2.0744e-01, 4.5368e-06,\n",
      "         2.8147e-01, 2.1133e-06, 7.6375e-03, 7.2545e-07],\n",
      "        [6.9153e-08, 2.7799e-08, 1.2891e-07, 1.2894e-08, 9.4012e-08, 1.7481e-02,\n",
      "         6.7503e-08, 1.4431e-01, 9.7904e-05, 8.3811e-01],\n",
      "        [3.5423e-03, 5.9813e-05, 1.1088e-01, 2.0089e-03, 2.2961e-01, 4.5782e-06,\n",
      "         6.5001e-01, 1.1985e-08, 3.8825e-03, 2.2151e-07],\n",
      "        [2.3699e-04, 3.2806e-05, 4.3570e-04, 9.0576e-05, 1.8726e-04, 6.7634e-01,\n",
      "         4.6166e-04, 2.0953e-01, 1.8732e-02, 9.3951e-02],\n",
      "        [2.9540e-02, 7.2744e-04, 7.3965e-01, 4.4454e-03, 2.2053e-02, 5.3753e-05,\n",
      "         2.0047e-01, 1.3836e-07, 3.0599e-03, 3.9858e-06],\n",
      "        [6.2641e-04, 9.5980e-01, 6.2587e-04, 3.7513e-02, 1.3373e-03, 5.0352e-07,\n",
      "         2.8877e-05, 6.3563e-05, 1.8581e-06, 1.6234e-06],\n",
      "        [1.4552e-03, 2.2667e-02, 5.6499e-01, 8.2439e-03, 3.6292e-01, 4.5352e-04,\n",
      "         3.7569e-02, 3.2091e-06, 1.6911e-03, 6.9169e-06],\n",
      "        [6.1810e-03, 1.2993e-04, 1.8973e-01, 2.3820e-03, 8.6602e-02, 5.9980e-05,\n",
      "         7.0599e-01, 9.0099e-08, 8.9288e-03, 2.7538e-06],\n",
      "        [1.2248e-02, 3.5722e-04, 2.3510e-01, 1.2178e-03, 4.1886e-01, 9.2542e-05,\n",
      "         3.1497e-01, 5.9526e-07, 1.7146e-02, 9.1289e-06],\n",
      "        [6.3755e-03, 7.8829e-04, 6.6347e-01, 2.3723e-03, 5.1077e-02, 2.0509e-03,\n",
      "         2.6877e-01, 7.1687e-07, 5.0838e-03, 3.4831e-06],\n",
      "        [2.9869e-03, 1.5427e-03, 7.3108e-03, 3.5527e-03, 1.1454e-03, 8.7476e-01,\n",
      "         3.3638e-03, 9.1175e-02, 6.9362e-03, 7.2218e-03],\n",
      "        [4.2006e-02, 1.1070e-04, 9.0130e-02, 2.0927e-03, 2.2631e-02, 3.1928e-03,\n",
      "         5.0007e-01, 1.3252e-05, 3.3857e-01, 1.1864e-03],\n",
      "        [1.0788e-02, 2.2661e-02, 5.6054e-01, 2.3949e-02, 3.2641e-01, 6.0798e-05,\n",
      "         5.3362e-02, 1.5481e-06, 2.2215e-03, 1.7662e-06],\n",
      "        [5.7830e-02, 1.3577e-03, 8.4272e-01, 2.4959e-03, 8.2619e-03, 1.3379e-04,\n",
      "         8.4650e-02, 3.2218e-07, 2.5373e-03, 8.4845e-06],\n",
      "        [1.9453e-04, 3.5004e-07, 6.0910e-04, 1.8540e-05, 2.0333e-03, 2.9705e-04,\n",
      "         1.2330e-03, 6.4505e-05, 9.9550e-01, 4.8318e-05],\n",
      "        [5.8754e-04, 2.9493e-04, 3.8207e-01, 1.3991e-03, 4.5676e-01, 4.7523e-05,\n",
      "         1.5357e-01, 1.5032e-07, 5.2676e-03, 1.8747e-06],\n",
      "        [1.5250e-04, 2.0206e-07, 5.4460e-04, 1.0213e-05, 7.5746e-04, 5.5300e-04,\n",
      "         1.0209e-03, 7.7202e-05, 9.9682e-01, 6.8739e-05],\n",
      "        [8.2143e-01, 8.7829e-03, 3.9413e-02, 2.0007e-02, 3.3559e-03, 1.7679e-04,\n",
      "         1.0616e-01, 1.1336e-05, 6.5750e-04, 8.4235e-06],\n",
      "        [1.5339e-06, 2.8225e-06, 3.8722e-06, 4.0023e-06, 8.3598e-06, 2.6272e-02,\n",
      "         1.1350e-06, 9.6907e-01, 3.2107e-04, 4.3185e-03],\n",
      "        [5.0088e-07, 9.0136e-07, 2.8406e-06, 2.2550e-06, 6.4518e-06, 5.8665e-02,\n",
      "         8.1219e-07, 8.8476e-01, 2.6128e-03, 5.3948e-02],\n",
      "        [7.6749e-07, 9.1655e-07, 1.2586e-04, 9.8104e-06, 7.2377e-04, 8.7551e-03,\n",
      "         2.2232e-05, 4.7291e-03, 9.8265e-01, 2.9782e-03],\n",
      "        [3.9319e-04, 6.4352e-05, 1.4044e-03, 2.0072e-04, 2.4252e-04, 9.7844e-01,\n",
      "         1.0329e-03, 9.7645e-03, 5.1627e-03, 3.2951e-03]])\n"
     ]
    }
   ],
   "source": [
    "# no need to calculate the gradients\n",
    "with torch.no_grad():\n",
    "    num_correct = 0\n",
    "    total = 0\n",
    "\n",
    "    cnt = 0\n",
    "    for images, labels in testloader:\n",
    "        \n",
    "        logps = model(images)\n",
    "        output = torch.exp(logps) # forward pass and the predictions are stored in logps\n",
    "        print(output)\n",
    "        cnt+=1\n",
    "        \n",
    "        if cnt > 0: # break after one pass\n",
    "          break\n",
    "        \n",
    "# each line is a probability that NN predicts the correct class"
   ]
  },
  {
   "cell_type": "code",
   "execution_count": 115,
   "id": "06fc2244",
   "metadata": {
    "colab": {},
    "colab_type": "code",
    "id": "6Ij_wa7paveM"
   },
   "outputs": [],
   "source": [
    "with torch.no_grad():\n",
    "    num_correct = 0\n",
    "    total = 0\n",
    "\n",
    "    #set_trace()\n",
    "    for images, labels in testloader:\n",
    "        \n",
    "        logps = model(images)\n",
    "        output = torch.exp(logps)\n",
    "        \n",
    "        pred = torch.argmax(output, 1) # getting the value with the highest probability\n",
    "        total += labels.size(0)\n"
   ]
  },
  {
   "cell_type": "code",
   "execution_count": 116,
   "id": "bf3c334b",
   "metadata": {
    "colab": {},
    "colab_type": "code",
    "id": "nyxadgAyiRqg"
   },
   "outputs": [
    {
     "data": {
      "text/plain": [
       "(tensor([3, 3, 7, 5, 8, 4, 5, 6, 8, 9, 1, 9, 1, 8, 1, 5]),\n",
       " tensor([3, 2, 7, 5, 8, 4, 5, 6, 8, 9, 1, 9, 1, 8, 1, 5]))"
      ]
     },
     "execution_count": 116,
     "metadata": {},
     "output_type": "execute_result"
    }
   ],
   "source": [
    "pred, labels"
   ]
  },
  {
   "cell_type": "code",
   "execution_count": 117,
   "id": "b71cb7a0",
   "metadata": {
    "colab": {},
    "colab_type": "code",
    "id": "ojLPwZLdi3OX"
   },
   "outputs": [
    {
     "data": {
      "text/plain": [
       "tensor([ True, False,  True,  True,  True,  True,  True,  True,  True,  True,\n",
       "         True,  True,  True,  True,  True,  True])"
      ]
     },
     "execution_count": 117,
     "metadata": {},
     "output_type": "execute_result"
    }
   ],
   "source": [
    "pred == labels"
   ]
  },
  {
   "cell_type": "code",
   "execution_count": 118,
   "id": "f364f440",
   "metadata": {
    "colab": {},
    "colab_type": "code",
    "id": "6V-3r9n-iCMb"
   },
   "outputs": [
    {
     "name": "stdout",
     "output_type": "stream",
     "text": [
      "Accuracy of the model on the 10000 test images: 81.74% \n"
     ]
    }
   ],
   "source": [
    "with torch.no_grad():\n",
    "    num_correct = 0\n",
    "    total = 0\n",
    "\n",
    "    #set_trace()\n",
    "    for images, labels in testloader:\n",
    "        \n",
    "        logps = model(images)\n",
    "        output = torch.exp(logps)\n",
    "        \n",
    "        pred = torch.argmax(output, 1)\n",
    "        total += labels.size(0)\n",
    "        num_correct += (pred == labels).sum().item()\n",
    "\n",
    "    print(f'Accuracy of the model on the 10000 test images: {num_correct * 100 / total}% ')"
   ]
  },
  {
   "cell_type": "markdown",
   "id": "48b6bfd6",
   "metadata": {
    "colab_type": "text",
    "id": "gXmCHcwKs6rd"
   },
   "source": [
    "# PyTorch playground"
   ]
  },
  {
   "cell_type": "code",
   "execution_count": 119,
   "id": "4bba23e6",
   "metadata": {
    "colab": {},
    "colab_type": "code",
    "id": "PzCCniVwNTdp"
   },
   "outputs": [],
   "source": [
    "# Setting seeds to try and ensure we have the same results - this is not guaranteed across PyTorch releases.\n",
    "import torch\n",
    "torch.manual_seed(0)\n",
    "torch.backends.cudnn.deterministic = True\n",
    "torch.backends.cudnn.benchmark = False\n",
    "\n",
    "import numpy as np\n",
    "np.random.seed(0)"
   ]
  },
  {
   "cell_type": "code",
   "execution_count": 120,
   "id": "3e99c063",
   "metadata": {
    "colab": {
     "base_uri": "https://localhost:8080/",
     "height": 34
    },
    "colab_type": "code",
    "id": "fQLW-HL7_0pT",
    "outputId": "a2347d9a-bd38-4fa5-b11a-6c2ae5767134"
   },
   "outputs": [
    {
     "name": "stdout",
     "output_type": "stream",
     "text": [
      "cpu\n"
     ]
    }
   ],
   "source": [
    "device = torch.device(\"cuda\" if torch.cuda.is_available() else \"cpu\")\n",
    "print(device)\n"
   ]
  },
  {
   "cell_type": "code",
   "execution_count": 121,
   "id": "038ad1a6",
   "metadata": {
    "colab": {},
    "colab_type": "code",
    "id": "PCJzXv0OK1Bs"
   },
   "outputs": [],
   "source": [
    "from torchvision import datasets, transforms\n",
    "import torch.nn.functional as F\n",
    "from torch import nn\n",
    "\n",
    "mean, std = (0.5,), (0.5,)\n",
    "\n",
    "# Create a transform and normalise data\n",
    "transform = transforms.Compose([transforms.ToTensor(),\n",
    "                                transforms.Normalize(mean, std)\n",
    "                              ])\n",
    "\n",
    "# Download FMNIST training dataset and load training data\n",
    "trainset = datasets.FashionMNIST('~/.pytorch/FMNIST/', download=True, train=True, transform=transform)\n",
    "trainloader = torch.utils.data.DataLoader(trainset, batch_size=64, shuffle=True)\n",
    "\n",
    "# Download FMNIST test dataset and load test data\n",
    "testset = datasets.FashionMNIST('~/.pytorch/FMNIST/', download=True, train=False, transform=transform)\n",
    "testloader = torch.utils.data.DataLoader(testset, batch_size=64, shuffle=False)"
   ]
  },
  {
   "cell_type": "code",
   "execution_count": 122,
   "id": "c9d3732e",
   "metadata": {
    "colab": {},
    "colab_type": "code",
    "id": "rqMqFbIVrbFH"
   },
   "outputs": [],
   "source": [
    "class FMNIST(nn.Module):\n",
    "  def __init__(self):\n",
    "    super().__init__()\n",
    "    self.fc1 = nn.Linear(784, 128)\n",
    "    self.fc2 = nn.Linear(128,64)\n",
    "    self.fc3 = nn.Linear(64,10)\n",
    "    \n",
    "  def forward(self, x):\n",
    "    x = x.view(x.shape[0], -1)\n",
    "    \n",
    "    x = F.relu(self.fc1(x))\n",
    "    x = F.relu(self.fc2(x))\n",
    "    x = self.fc3(x)\n",
    "    x = F.log_softmax(x, dim=1)\n",
    "    \n",
    "    return x\n",
    "\n",
    "model = FMNIST()"
   ]
  },
  {
   "cell_type": "code",
   "execution_count": 123,
   "id": "0e2faf94",
   "metadata": {
    "colab": {
     "base_uri": "https://localhost:8080/",
     "height": 102
    },
    "colab_type": "code",
    "id": "67eZUNEM5b7n",
    "outputId": "65d086ff-3a03-4cee-addd-315c55d7b626"
   },
   "outputs": [
    {
     "data": {
      "text/plain": [
       "FMNIST(\n",
       "  (fc1): Linear(in_features=784, out_features=128, bias=True)\n",
       "  (fc2): Linear(in_features=128, out_features=64, bias=True)\n",
       "  (fc3): Linear(in_features=64, out_features=10, bias=True)\n",
       ")"
      ]
     },
     "execution_count": 123,
     "metadata": {},
     "output_type": "execute_result"
    }
   ],
   "source": [
    "model.to(device)"
   ]
  },
  {
   "cell_type": "markdown",
   "id": "5d7237bf",
   "metadata": {
    "colab_type": "text",
    "id": "XPdDu7KfWEfW"
   },
   "source": [
    "- The only change we have made to the code is that we are going to track the training loss, the testing loss and the accuracy across the 30 epochs.\n",
    "- We'll print out the train loss, the test loss and the accuracy after each epoch.\n",
    "- Because we are running this over 30 epochs this will take a bit longer to run - approx 15 minutes."
   ]
  },
  {
   "cell_type": "code",
   "execution_count": 124,
   "id": "2a30b09a",
   "metadata": {
    "colab": {
     "base_uri": "https://localhost:8080/",
     "height": 578
    },
    "colab_type": "code",
    "id": "VJLzWi0UqGWm",
    "outputId": "77ce05a3-3f82-4cef-cefc-8a43c4ddbafb"
   },
   "outputs": [
    {
     "name": "stdout",
     "output_type": "stream",
     "text": [
      "Epoch(1/30) | Training loss: 1.0338174501843036 | Test loss: 0.6438944203079127 | Accuracy : 0.7646\n",
      "Epoch(2/30) | Training loss: 0.5607503942335084 | Test loss: 0.5492629501849983 | Accuracy : 0.8019\n",
      "Epoch(3/30) | Training loss: 0.491598510475301 | Test loss: 0.5054487923907626 | Accuracy : 0.8153\n",
      "Epoch(4/30) | Training loss: 0.45538549036232395 | Test loss: 0.4784524805226903 | Accuracy : 0.8272\n",
      "Epoch(5/30) | Training loss: 0.43235718722600164 | Test loss: 0.4571964134266422 | Accuracy : 0.834\n",
      "Epoch(6/30) | Training loss: 0.41507624634611073 | Test loss: 0.4552511823405126 | Accuracy : 0.8364\n",
      "Epoch(7/30) | Training loss: 0.40099091047861934 | Test loss: 0.43269140439428344 | Accuracy : 0.844\n",
      "Epoch(8/30) | Training loss: 0.388984460915838 | Test loss: 0.4238618138679274 | Accuracy : 0.8462\n",
      "Epoch(9/30) | Training loss: 0.3774063554145634 | Test loss: 0.42526366224714146 | Accuracy : 0.8494\n",
      "Epoch(10/30) | Training loss: 0.36864431833089795 | Test loss: 0.40582276111955096 | Accuracy : 0.8543\n",
      "Epoch(11/30) | Training loss: 0.36095893352842534 | Test loss: 0.40125934124752216 | Accuracy : 0.8544\n",
      "Epoch(12/30) | Training loss: 0.35247999976978883 | Test loss: 0.40307781745673743 | Accuracy : 0.8564\n",
      "Epoch(13/30) | Training loss: 0.345308247898052 | Test loss: 0.39089980294370347 | Accuracy : 0.8601\n",
      "Epoch(14/30) | Training loss: 0.33897137986635095 | Test loss: 0.38924433357396704 | Accuracy : 0.8573\n",
      "Epoch(15/30) | Training loss: 0.33263765888681796 | Test loss: 0.4027740325138068 | Accuracy : 0.8555\n",
      "Epoch(16/30) | Training loss: 0.32657915681822974 | Test loss: 0.3839665171067426 | Accuracy : 0.8634\n",
      "Epoch(17/30) | Training loss: 0.3212923827662524 | Test loss: 0.3746717103347657 | Accuracy : 0.8675\n",
      "Epoch(18/30) | Training loss: 0.3164205460993847 | Test loss: 0.37683959618495527 | Accuracy : 0.8615\n",
      "Epoch(19/30) | Training loss: 0.31207336221676646 | Test loss: 0.37541891805305605 | Accuracy : 0.8646\n",
      "Epoch(20/30) | Training loss: 0.3063709022743361 | Test loss: 0.3681151199682503 | Accuracy : 0.8714\n",
      "Epoch(21/30) | Training loss: 0.30189204746599135 | Test loss: 0.3659730233774064 | Accuracy : 0.8703\n",
      "Epoch(22/30) | Training loss: 0.29723321906189676 | Test loss: 0.36075284820833026 | Accuracy : 0.8717\n",
      "Epoch(23/30) | Training loss: 0.2932342765157792 | Test loss: 0.36484445280330197 | Accuracy : 0.8712\n",
      "Epoch(24/30) | Training loss: 0.2885124905944379 | Test loss: 0.3734624371596962 | Accuracy : 0.8655\n",
      "Epoch(25/30) | Training loss: 0.28413750749947164 | Test loss: 0.3529488008682895 | Accuracy : 0.8726\n",
      "Epoch(26/30) | Training loss: 0.2810416592082489 | Test loss: 0.3473573356487189 | Accuracy : 0.8773\n",
      "Epoch(27/30) | Training loss: 0.2766368763326709 | Test loss: 0.3634589965556078 | Accuracy : 0.8713\n",
      "Epoch(28/30) | Training loss: 0.27274943593500267 | Test loss: 0.34798906582176303 | Accuracy : 0.8748\n",
      "Epoch(29/30) | Training loss: 0.2695006458108613 | Test loss: 0.37235231365367866 | Accuracy : 0.8714\n",
      "Epoch(30/30) | Training loss: 0.2657932349200696 | Test loss: 0.36358268093910945 | Accuracy : 0.8691\n",
      "\n",
      "Number correct : 8691, Total : 10000\n",
      "Accuracy of the model after 30 epochs on the 10000 test images: 86.91% \n"
     ]
    }
   ],
   "source": [
    "from torch import optim\n",
    "criterion = nn.NLLLoss()\n",
    "optimizer = optim.SGD(model.parameters(), lr=0.01)\n",
    "\n",
    "num_epochs = 30\n",
    "train_tracker, test_tracker, accuracy_tracker = [], [], []\n",
    "\n",
    "\n",
    "for i in range(num_epochs):\n",
    "    cum_loss = 0\n",
    "    \n",
    "    for batch, (images, labels) in enumerate(trainloader,1):\n",
    "        images = images.to(device)\n",
    "        labels = labels.to(device)\n",
    "        \n",
    "        optimizer.zero_grad()\n",
    "        output = model(images)\n",
    "        loss = criterion(output, labels)\n",
    "        loss.backward()\n",
    "        optimizer.step()\n",
    "        \n",
    "        cum_loss += loss.item()\n",
    "    \n",
    "    train_tracker.append(cum_loss/len(trainloader))\n",
    "    print(f\"Epoch({i+1}/{num_epochs}) | Training loss: {cum_loss/len(trainloader)} | \",end='')\n",
    "    \n",
    "    test_loss = 0\n",
    "    num_correct = 0\n",
    "    total = 0\n",
    "    \n",
    "    for batch, (images, labels) in enumerate(testloader,1):\n",
    "        images = images.to(device)\n",
    "        labels = labels.to(device)\n",
    "        \n",
    "        logps = model(images)\n",
    "        batch_loss = criterion(logps, labels)        \n",
    "        test_loss += batch_loss.item()\n",
    "        \n",
    "        output = torch.exp(logps)\n",
    "        pred = torch.argmax(output, 1)\n",
    "        total += labels.size(0)\n",
    "        num_correct += (pred == labels).sum().item()\n",
    "    \n",
    "    test_tracker.append(test_loss/len(testloader))\n",
    "    print(f\"Test loss: {test_loss/len(testloader)} | \", end='')\n",
    "    accuracy_tracker.append(num_correct/total)\n",
    "    print(f'Accuracy : {num_correct/total}')        \n",
    "print(f'\\nNumber correct : {num_correct}, Total : {total}')\n",
    "print(f'Accuracy of the model after 30 epochs on the 10000 test images: {num_correct * 100 / total}% ')\n",
    "    \n",
    "    "
   ]
  },
  {
   "cell_type": "markdown",
   "id": "d3d5ae51",
   "metadata": {
    "colab_type": "text",
    "id": "IqNpkYO6V9YI"
   },
   "source": [
    "- Has the accuracy of the model increased? YES\n",
    "- Now plot the training loss vs the test loss over 30 epochs."
   ]
  },
  {
   "cell_type": "code",
   "execution_count": 7,
   "id": "4a577d2c",
   "metadata": {
    "colab": {
     "base_uri": "https://localhost:8080/",
     "height": 286
    },
    "colab_type": "code",
    "id": "89a8FdTi-cNM",
    "outputId": "82701451-7413-4c00-d4e7-24f0e375a4c2"
   },
   "outputs": [
    {
     "data": {
      "text/plain": [
       "<matplotlib.legend.Legend at 0x7f00c8cb33c8>"
      ]
     },
     "execution_count": 7,
     "metadata": {
      "tags": []
     },
     "output_type": "execute_result"
    },
    {
     "data": {
      "image/png": "[encoded data removed]",
      "text/plain": [
       "<Figure size 432x288 with 1 Axes>"
      ]
     },
     "metadata": {
      "tags": []
     },
     "output_type": "display_data"
    }
   ],
   "source": [
    "import matplotlib.pyplot as plt\n",
    "%matplotlib inline\n",
    "plt.plot(train_tracker, label='Training loss')\n",
    "plt.plot(test_tracker, label='Test loss')\n",
    "plt.legend()"
   ]
  },
  {
   "cell_type": "markdown",
   "id": "e6d82566",
   "metadata": {
    "colab_type": "text",
    "id": "DHtKTHKKjG3r"
   },
   "source": [
    "- Now add the accuracy to the mix."
   ]
  },
  {
   "cell_type": "code",
   "execution_count": 8,
   "id": "a6972a79",
   "metadata": {
    "colab": {
     "base_uri": "https://localhost:8080/",
     "height": 286
    },
    "colab_type": "code",
    "id": "AJgyMHm2Pvx5",
    "outputId": "881d9ce0-19cd-4991-86a1-2d014ee00735"
   },
   "outputs": [
    {
     "data": {
      "text/plain": [
       "<matplotlib.legend.Legend at 0x7f00c8da8f98>"
      ]
     },
     "execution_count": 8,
     "metadata": {
      "tags": []
     },
     "output_type": "execute_result"
    },
    {
     "data": {
      "image/png": "[encoded data removed]",
      "text/plain": [
       "<Figure size 432x288 with 1 Axes>"
      ]
     },
     "metadata": {
      "tags": []
     },
     "output_type": "display_data"
    }
   ],
   "source": [
    "import matplotlib.pyplot as plt\n",
    "%matplotlib inline\n",
    "plt.plot(train_tracker, label='Training loss')\n",
    "plt.plot(test_tracker, label='Test loss')\n",
    "plt.plot(accuracy_tracker, label='Test accuracy')\n",
    "plt.legend()"
   ]
  },
  {
   "cell_type": "markdown",
   "id": "53278ad1",
   "metadata": {
    "colab_type": "text",
    "id": "APhVglVTk-og"
   },
   "source": [
    "## Further challenges and experiments \n",
    "*if I have spare time cause oh god it takes ages to train more complex things...*\n",
    "- Can you get better accuracy from a model if you :\n",
    "    - Add more layers? \n",
    "    - Change the number of nodes in the layers?\n",
    "    - Train over fewer/higher epochs?\n",
    "    \n",
    "- Can you improve on your results if you add additional layers like [Dropout](https://pytorch.org/docs/master/nn.html#torch.nn.Dropout)"
   ]
  },
  {
   "cell_type": "code",
   "execution_count": null,
   "id": "bccfca58",
   "metadata": {},
   "outputs": [],
   "source": []
  }
 ],
 "metadata": {
  "kernelspec": {
   "display_name": "Python 3",
   "language": "python",
   "name": "python3"
  },
  "language_info": {
   "codemirror_mode": {
    "name": "ipython",
    "version": 3
   },
   "file_extension": ".py",
   "mimetype": "text/x-python",
   "name": "python",
   "nbconvert_exporter": "python",
   "pygments_lexer": "ipython3",
   "version": "3.8.8"
  }
 },
 "nbformat": 4,
 "nbformat_minor": 5
}
